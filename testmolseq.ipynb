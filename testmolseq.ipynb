{
 "cells": [
  {
   "cell_type": "code",
   "execution_count": null,
   "metadata": {},
   "outputs": [],
   "source": [
    "#Example: https://hl7.org/fhir/sequence-complex-variant.json.html"
   ]
  },
  {
   "cell_type": "code",
   "execution_count": 67,
   "metadata": {},
   "outputs": [],
   "source": [
    "from fhir.resources.molecularsequence import MolecularSequence\n",
    "from fhir.resources.molecularsequence import MolecularSequenceRelative\n",
    "from fhir.resources.molecularsequence import MolecularSequenceRelativeEdit\n",
    "from fhir.resources.molecularsequence import MolecularSequenceRelativeStartingSequence\n",
    "\n",
    "\n",
    "from fhir.resources.identifier import Identifier\n",
    "from fhir.resources.reference import Reference\n",
    "from fhir.resources.codeableconcept import CodeableConcept\n",
    "from fhir.resources.coding import Coding"
   ]
  },
  {
   "cell_type": "code",
   "execution_count": 68,
   "metadata": {},
   "outputs": [
    {
     "data": {
      "text/plain": [
       "{'status': 'generated',\n",
       " 'div': '<div xmlns=\"http://www.w3.org/1999/xhtml\"><p><b>Generated Narrative: MolecularSequence</b><a name=\"sequence-complex-variant\"> </a></p><div style=\"display: inline-block; background-color: #d9e0e7; padding: 6px; margin: 4px; border: 1px solid #8da1b4; border-radius: 5px; line-height: 60%\"><p style=\"margin-bottom: 0px\">Resource MolecularSequence &quot;sequence-complex-variant&quot; </p></div><p><b>identifier</b>: id:\\xa0?ngen-9?\\xa0(use:\\xa0OFFICIAL)</p><p><b>type</b>: dna</p><p><b>specimen</b>: <a href=\"broken-link.html\">Specimen/genetics-example1-somatic: Molecular Specimen ID: MLD45-Z4-1234</a></p><p><b>device</b>: <span>: 12 lead EKG Device Metric</span></p><p><b>performer</b>: <a href=\"organization-example.html\">Organization/hl7: HL7</a> &quot;Health Level Seven International&quot;</p><blockquote><p><b>relative</b></p><p><b>coordinateSystem</b>: 0-based interval counting <span style=\"background: LightGoldenRodYellow; margin: 4px; border: 1px solid khaki\"> (<a href=\"https://loinc.org/\">LOINC</a>#LA30100-4)</span></p><h3>StartingSequences</h3><table class=\"grid\"><tr><td>-</td><td><b>Sequence[x]</b></td><td><b>WindowStart</b></td><td><b>WindowEnd</b></td><td><b>Strand</b></td></tr><tr><td>*</td><td>NC_000002.12 <span style=\"background: LightGoldenRodYellow; margin: 4px; border: 1px solid khaki\"> (nuccore#NC_000002.12)</span></td><td>128273724</td><td>128273754</td><td>watson</td></tr></table><h3>Edits</h3><table class=\"grid\"><tr><td>-</td><td><b>Start</b></td><td><b>End</b></td><td><b>ReplacementSequence</b></td><td><b>ReplacedSequence</b></td></tr><tr><td>*</td><td>128273724</td><td>128273736</td><td>CTCATTGT</td><td>CTCCATTGCATGCGTT</td></tr></table></blockquote></div>'}"
      ]
     },
     "execution_count": 68,
     "metadata": {},
     "output_type": "execute_result"
    }
   ],
   "source": [
    "text = {\n",
    "    \"status\" : \"generated\",\n",
    "    \"div\" : \"<div xmlns=\\\"http://www.w3.org/1999/xhtml\\\"><p><b>Generated Narrative: MolecularSequence</b><a name=\\\"sequence-complex-variant\\\"> </a></p><div style=\\\"display: inline-block; background-color: #d9e0e7; padding: 6px; margin: 4px; border: 1px solid #8da1b4; border-radius: 5px; line-height: 60%\\\"><p style=\\\"margin-bottom: 0px\\\">Resource MolecularSequence &quot;sequence-complex-variant&quot; </p></div><p><b>identifier</b>: id:\\u00a0?ngen-9?\\u00a0(use:\\u00a0OFFICIAL)</p><p><b>type</b>: dna</p><p><b>specimen</b>: <a href=\\\"broken-link.html\\\">Specimen/genetics-example1-somatic: Molecular Specimen ID: MLD45-Z4-1234</a></p><p><b>device</b>: <span>: 12 lead EKG Device Metric</span></p><p><b>performer</b>: <a href=\\\"organization-example.html\\\">Organization/hl7: HL7</a> &quot;Health Level Seven International&quot;</p><blockquote><p><b>relative</b></p><p><b>coordinateSystem</b>: 0-based interval counting <span style=\\\"background: LightGoldenRodYellow; margin: 4px; border: 1px solid khaki\\\"> (<a href=\\\"https://loinc.org/\\\">LOINC</a>#LA30100-4)</span></p><h3>StartingSequences</h3><table class=\\\"grid\\\"><tr><td>-</td><td><b>Sequence[x]</b></td><td><b>WindowStart</b></td><td><b>WindowEnd</b></td><td><b>Strand</b></td></tr><tr><td>*</td><td>NC_000002.12 <span style=\\\"background: LightGoldenRodYellow; margin: 4px; border: 1px solid khaki\\\"> (nuccore#NC_000002.12)</span></td><td>128273724</td><td>128273754</td><td>watson</td></tr></table><h3>Edits</h3><table class=\\\"grid\\\"><tr><td>-</td><td><b>Start</b></td><td><b>End</b></td><td><b>ReplacementSequence</b></td><td><b>ReplacedSequence</b></td></tr><tr><td>*</td><td>128273724</td><td>128273736</td><td>CTCATTGT</td><td>CTCCATTGCATGCGTT</td></tr></table></blockquote></div>\"\n",
    "  }\n",
    "text"
   ]
  },
  {
   "cell_type": "code",
   "execution_count": 63,
   "metadata": {},
   "outputs": [
    {
     "data": {
      "text/plain": [
       "[Identifier(resource_type='Identifier', fhir_comments=None, extension=None, id=None, assigner=None, period=None, system=None, system__ext=None, type=None, use='official', use__ext=None, value=None, value__ext=None)]"
      ]
     },
     "execution_count": 63,
     "metadata": {},
     "output_type": "execute_result"
    }
   ],
   "source": [
    "# MolecularSequenceIdentifier\n",
    "identifier = Identifier(use=\"official\")\n",
    "identifier_list = [identifier]\n",
    "identifier_list"
   ]
  },
  {
   "cell_type": "code",
   "execution_count": 69,
   "metadata": {},
   "outputs": [],
   "source": [
    "# MolecularSequenceSpecimen\n",
    "specimen = Reference(reference=\"Specimen/genetics-example1-somatic\",\n",
    "                               display=\"Molecular Specimen ID: MLD45-Z4-1234\")"
   ]
  },
  {
   "cell_type": "code",
   "execution_count": 70,
   "metadata": {},
   "outputs": [],
   "source": [
    "# MolecularSequenceDevice\n",
    "device = Reference(display=\"12 lead EKG Device Metric\")"
   ]
  },
  {
   "cell_type": "code",
   "execution_count": 71,
   "metadata": {},
   "outputs": [],
   "source": [
    "# MolecularSequencePerformer\n",
    "performer = Reference(reference=\"Organization\",display=\"HL7\")"
   ]
  },
  {
   "cell_type": "code",
   "execution_count": 72,
   "metadata": {},
   "outputs": [
    {
     "data": {
      "text/plain": [
       "CodeableConcept(resource_type='CodeableConcept', fhir_comments=None, extension=None, id=None, coding=[Coding(resource_type='Coding', fhir_comments=None, extension=None, id=None, code='LA30100-4', code__ext=None, display='0-based interval counting', display__ext=None, system='http://loinc.org', system__ext=None, userSelected=None, userSelected__ext=None, version=None, version__ext=None)], text=None, text__ext=None)"
      ]
     },
     "execution_count": 72,
     "metadata": {},
     "output_type": "execute_result"
    }
   ],
   "source": [
    "#MolecularSequenceCoordinateSytem\n",
    "cooding_coord = Coding(system=\"http://loinc.org\", code=\"LA30100-4\", display=\"0-based interval counting\")\n",
    "coordinateSystem = CodeableConcept(coding=[cooding_coord])\n",
    "coordinateSystem"
   ]
  },
  {
   "cell_type": "code",
   "execution_count": 73,
   "metadata": {},
   "outputs": [
    {
     "data": {
      "text/plain": [
       "MolecularSequenceRelativeStartingSequence(resource_type='MolecularSequenceRelativeStartingSequence', fhir_comments=None, extension=None, id=None, modifierExtension=None, chromosome=None, genomeAssembly=None, orientation=None, orientation__ext=None, sequenceCodeableConcept=CodeableConcept(resource_type='CodeableConcept', fhir_comments=None, extension=None, id=None, coding=[Coding(resource_type='Coding', fhir_comments=None, extension=None, id=None, code='NC_000002.12', code__ext=None, display=None, display__ext=None, system='http://www.ncbi.nlm.nih.gov/nuccore', system__ext=None, userSelected=None, userSelected__ext=None, version=None, version__ext=None)], text=None, text__ext=None), sequenceReference=None, sequenceString=None, sequenceString__ext=None, strand='watson', strand__ext=None, windowEnd=128273754, windowEnd__ext=None, windowStart=128273724, windowStart__ext=None)"
      ]
     },
     "execution_count": 73,
     "metadata": {},
     "output_type": "execute_result"
    }
   ],
   "source": [
    "#MolecularSequenceStartingSequence\n",
    "coding_sequence = Coding(system=\"http://www.ncbi.nlm.nih.gov/nuccore\", code=\"NC_000002.12\")\n",
    "#codeableConcept object\n",
    "sequence_codeable_concept = CodeableConcept(coding=[coding_sequence])\n",
    "\n",
    "molecular_sequence_relative_start_sequence = MolecularSequenceRelativeStartingSequence(sequenceCodeableConcept=sequence_codeable_concept,\n",
    "                                          windowStart=128273724,\n",
    "                                          windowEnd = 128273754,\n",
    "                                          strand='watson')\n",
    "molecular_sequence_relative_start_sequence"
   ]
  },
  {
   "cell_type": "code",
   "execution_count": 74,
   "metadata": {},
   "outputs": [],
   "source": [
    "# MolecularSequenceStartingSequenceEdit\n",
    "molecular_sequence_edit = MolecularSequenceRelativeEdit(start=128273724,\n",
    "                                     end=128273736,\n",
    "                                     replacementSequence=\"CTCATTGT\",\n",
    "                                     replacedSequence=\"CTCCATTGCATGCGTT\")\n",
    "molecular_sequence_edit_list = [molecular_sequence_edit]"
   ]
  },
  {
   "cell_type": "code",
   "execution_count": 75,
   "metadata": {},
   "outputs": [],
   "source": [
    "molecular_sequence_relative = MolecularSequenceRelative(coordinateSystem=coordinateSystem,startingSequence=molecular_sequence_relative_start_sequence,edit=edit_list)\n",
    "molecular_sequence_relative_list= [molecular_sequence_relative]"
   ]
  },
  {
   "cell_type": "code",
   "execution_count": 77,
   "metadata": {},
   "outputs": [],
   "source": [
    "molecular_sequence = MolecularSequence(resource_type=\"MolecularSequence\",\n",
    "                  id=\"sequence-complex-variant\",\n",
    "                  text=text, \n",
    "                  identifier=identifier_list,\n",
    "                  type=\"dna\",\n",
    "                  specimen=specimen,\n",
    "                  device=device,\n",
    "                  performer=performer,\n",
    "                  relative=molecular_sequence_relative_list)"
   ]
  },
  {
   "cell_type": "code",
   "execution_count": 78,
   "metadata": {},
   "outputs": [
    {
     "name": "stdout",
     "output_type": "stream",
     "text": [
      "{\n",
      "  \"resourceType\": \"MolecularSequence\",\n",
      "  \"id\": \"sequence-complex-variant\",\n",
      "  \"text\": {\n",
      "    \"status\": \"generated\",\n",
      "    \"div\": \"<div xmlns=\\\"http://www.w3.org/1999/xhtml\\\"><p><b>Generated Narrative: MolecularSequence</b><a name=\\\"sequence-complex-variant\\\"> </a></p><div style=\\\"display: inline-block; background-color: #d9e0e7; padding: 6px; margin: 4px; border: 1px solid #8da1b4; border-radius: 5px; line-height: 60%\\\"><p style=\\\"margin-bottom: 0px\\\">Resource MolecularSequence &quot;sequence-complex-variant&quot; </p></div><p><b>identifier</b>: id:\\u00a0?ngen-9?\\u00a0(use:\\u00a0OFFICIAL)</p><p><b>type</b>: dna</p><p><b>specimen</b>: <a href=\\\"broken-link.html\\\">Specimen/genetics-example1-somatic: Molecular Specimen ID: MLD45-Z4-1234</a></p><p><b>device</b>: <span>: 12 lead EKG Device Metric</span></p><p><b>performer</b>: <a href=\\\"organization-example.html\\\">Organization/hl7: HL7</a> &quot;Health Level Seven International&quot;</p><blockquote><p><b>relative</b></p><p><b>coordinateSystem</b>: 0-based interval counting <span style=\\\"background: LightGoldenRodYellow; margin: 4px; border: 1px solid khaki\\\"> (<a href=\\\"https://loinc.org/\\\">LOINC</a>#LA30100-4)</span></p><h3>StartingSequences</h3><table class=\\\"grid\\\"><tr><td>-</td><td><b>Sequence[x]</b></td><td><b>WindowStart</b></td><td><b>WindowEnd</b></td><td><b>Strand</b></td></tr><tr><td>*</td><td>NC_000002.12 <span style=\\\"background: LightGoldenRodYellow; margin: 4px; border: 1px solid khaki\\\"> (nuccore#NC_000002.12)</span></td><td>128273724</td><td>128273754</td><td>watson</td></tr></table><h3>Edits</h3><table class=\\\"grid\\\"><tr><td>-</td><td><b>Start</b></td><td><b>End</b></td><td><b>ReplacementSequence</b></td><td><b>ReplacedSequence</b></td></tr><tr><td>*</td><td>128273724</td><td>128273736</td><td>CTCATTGT</td><td>CTCCATTGCATGCGTT</td></tr></table></blockquote></div>\"\n",
      "  },\n",
      "  \"identifier\": [\n",
      "    {\n",
      "      \"use\": \"official\"\n",
      "    }\n",
      "  ],\n",
      "  \"type\": \"dna\",\n",
      "  \"specimen\": {\n",
      "    \"reference\": \"Specimen/genetics-example1-somatic\",\n",
      "    \"display\": \"Molecular Specimen ID: MLD45-Z4-1234\"\n",
      "  },\n",
      "  \"device\": {\n",
      "    \"display\": \"12 lead EKG Device Metric\"\n",
      "  },\n",
      "  \"performer\": {\n",
      "    \"reference\": \"Organization\",\n",
      "    \"display\": \"HL7\"\n",
      "  },\n",
      "  \"relative\": [\n",
      "    {\n",
      "      \"coordinateSystem\": {\n",
      "        \"coding\": [\n",
      "          {\n",
      "            \"system\": \"http://loinc.org\",\n",
      "            \"code\": \"LA30100-4\",\n",
      "            \"display\": \"0-based interval counting\"\n",
      "          }\n",
      "        ]\n",
      "      },\n",
      "      \"startingSequence\": {\n",
      "        \"sequenceCodeableConcept\": {\n",
      "          \"coding\": [\n",
      "            {\n",
      "              \"system\": \"http://www.ncbi.nlm.nih.gov/nuccore\",\n",
      "              \"code\": \"NC_000002.12\"\n",
      "            }\n",
      "          ]\n",
      "        },\n",
      "        \"windowStart\": 128273724,\n",
      "        \"windowEnd\": 128273754,\n",
      "        \"strand\": \"watson\"\n",
      "      },\n",
      "      \"edit\": [\n",
      "        {\n",
      "          \"start\": 128273724,\n",
      "          \"end\": 128273736,\n",
      "          \"replacementSequence\": \"CTCATTGT\",\n",
      "          \"replacedSequence\": \"CTCCATTGCATGCGTT\"\n",
      "        }\n",
      "      ]\n",
      "    }\n",
      "  ]\n",
      "}\n"
     ]
    }
   ],
   "source": [
    "print(molecular_sequence.json(indent=2))"
   ]
  }
 ],
 "metadata": {
  "kernelspec": {
   "display_name": "fhir_dev",
   "language": "python",
   "name": "python3"
  },
  "language_info": {
   "codemirror_mode": {
    "name": "ipython",
    "version": 3
   },
   "file_extension": ".py",
   "mimetype": "text/x-python",
   "name": "python",
   "nbconvert_exporter": "python",
   "pygments_lexer": "ipython3",
   "version": "3.10.13"
  },
  "orig_nbformat": 4
 },
 "nbformat": 4,
 "nbformat_minor": 2
}
