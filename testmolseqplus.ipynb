{
 "cells": [
  {
   "cell_type": "markdown",
   "metadata": {},
   "source": [
    "##### Example: https://build.fhir.org/branches/cg-im-molseq-work_in_progress_2/molecularsequence-example.json.html"
   ]
  },
  {
   "cell_type": "code",
   "execution_count": 1,
   "metadata": {},
   "outputs": [],
   "source": [
    "import json\n",
    "\n",
    "#These are the classes that I have created to match molulcar sequence work in progress 2.\n",
    "from fhir.resources.molecularsequenceplus import MolecularSequencePlus \n",
    "from fhir.resources.molecularsequenceplus import MolecularSequenceLiteralPlus\n",
    "from fhir.resources.molecularsequenceplus import MolecularSequenceRelativePlus\n",
    "from fhir.resources.molecularsequenceplus import MolecularSequenceRelativeEditPlus\n",
    "from fhir.resources.molecularsequenceplus import MolecularSequenceExtracted\n",
    "\n",
    "# NOTE: in this example (https://build.fhir.org/branches/cg-im-molseq-work_in_progress_2/molecularsequence-example.json.html) repeated is not present in the example\n",
    "# just used an example from the fhir slides presented in ga4gh \n",
    "from fhir.resources.molecularsequenceplus import MolecularSequenceRepeated\n",
    "\n",
    "from fhir.resources.molecularsequenceplus import MolecularSequenceConcatenated\n",
    "from fhir.resources.molecularsequenceplus import MolecularSequenceConcatenatedSequenceElement\n",
    "\n",
    "#Note: These didn't change left as is\n",
    "from fhir.resources.reference import Reference\n",
    "from fhir.resources.codeableconcept import CodeableConcept\n",
    "from fhir.resources.attachment import Attachment"
   ]
  },
  {
   "cell_type": "code",
   "execution_count": 2,
   "metadata": {},
   "outputs": [],
   "source": [
    "#text \n",
    "text ={\"status\" : \"generated\",\"div\" : \"<div xmlns=\\\"http://www.w3.org/1999/xhtml\\\"><p><b>Generated Narrative: MolecularSequence</b><a name=\\\"example\\\"> </a></p><div style=\\\"display: inline-block; background-color: #d9e0e7; padding: 6px; margin: 4px; border: 1px solid #8da1b4; border-radius: 5px; line-height: 60%\\\"><p style=\\\"margin-bottom: 0px\\\">Resource MolecularSequence &quot;example&quot; </p></div><p><b>type</b>: dna</p><h3>Literals</h3><table class=\\\"grid\\\"><tr><td style=\\\"display: none\\\">-</td><td><b>SequenceValue</b></td></tr><tr><td style=\\\"display: none\\\">*</td><td>ATGAACAGACAAGTAAAAGACATGACAGYGATACTTTCCCAGAGCTGAAGTTAACAAATGCACCTGGTTC TTTTACTAAGTGTTCAAATACCAGTGAACTTAAAGAATTTGTCAATCCTAGCCTTCCAAGAGAAGAAAAA GAAGAGAAACTAGAAACAGTTAAAGTGTCTAATAATGCTGAAGACCCCAAAGATCTCATGTTAAGTGGAG AAAGGGTTTTGCAAACTGAAAGATCTGTAGAGAGTAGCAGTATTTCAYTGGTACCTGGTACTGATTATGG CACTCAGGAAAGTATCTCGTTACTGGAAGTTAGCACTCTAGGGAAGGCAAAAACAGAACCAAATAAATGT GTGAGTCAGTGTGCAGCATTTGAAAACCCCAAGGGACTAATTCATGGTTGTTCCAAAGATAATAGAAATG ACACAGAAGGCTTTAAGTATCCATTGGGACATGAAGTTAACCACAGTCGGGAAACAAGCATAGAAATGGA AGAAAGTGAACTTGATGCTCAGTATTTGCAGAATACATTCAAGGTTTCAAAGCGCCAGTCATTTGCTCYG TTTTCAAATCCAGGAAATGCAGAAGAGGAATGTGCAACATTCTCTGCCCACTCTGGGTCCTTAAAGAAAC AAAGTCCAAAAGTCACTTTTGAATGTGAACAAAAGGAAGAAAATCAAGGAAAGAATGAGTCTAATATCAA GCCTGTACAGACAGTTAATATCACTGCAGGCTTTCCTGTGGTTGGTCAGAAAGA</td></tr></table><h3>Formatteds</h3><table class=\\\"grid\\\"><tr><td style=\\\"display: none\\\">-</td><td><b>ContentType</b></td><td><b>Url</b></td></tr><tr><td style=\\\"display: none\\\">*</td><td>text/html</td><td><a href=\\\"https://www.ncbi.nlm.nih.gov/nuccore/MW716256.1?report=fasta\\\">https://www.ncbi.nlm.nih.gov/nuccore/MW716256.1?report=fasta</a></td></tr></table><blockquote><p><b>relative</b></p><p><b>startingSequence</b>: <a href=\\\"broken-link.html\\\">MolecularSequence/StartingSequenceExample: Starting Sequence Resource</a></p><h3>Edits</h3><table class=\\\"grid\\\"><tr><td style=\\\"display: none\\\">-</td><td><b>CoordinateSystem</b></td><td><b>Start</b></td><td><b>End</b></td><td><b>ReplacementSequence</b></td><td><b>ReplacedSequence</b></td></tr><tr><td style=\\\"display: none\\\">*</td><td>0-based interval counting <span style=\\\"background: LightGoldenRodYellow; margin: 4px; border: 1px solid khaki\\\"> (<a href=\\\"https://loinc.org/\\\">LOINC</a>#LA30100-4)</span></td><td>0</td><td>725</td><td><a href=\\\"broken-link.html\\\">MolecularSequence/ReplacementSequenceExample: Replacement Sequence Resource</a></td><td><a href=\\\"broken-link.html\\\">MolecularSequence/ReplacedSequenceExample: Replaced Sequence Resource</a></td></tr></table></blockquote><h3>Extracteds</h3><table class=\\\"grid\\\"><tr><td style=\\\"display: none\\\">-</td><td><b>StartingSequence</b></td><td><b>Start</b></td><td><b>End</b></td><td><b>CoordinateSystem</b></td><td><b>ReverseComplement</b></td></tr><tr><td style=\\\"display: none\\\">*</td><td><a href=\\\"broken-link.html\\\">MolecularSequence/StartingSequenceExample: Starting Sequence Resource</a></td><td>0</td><td>745</td><td>0-based interval counting <span style=\\\"background: LightGoldenRodYellow; margin: 4px; border: 1px solid khaki\\\"> (<a href=\\\"https://loinc.org/\\\">LOINC</a>#LA30100-4)</span></td><td>false</td></tr></table><blockquote><p><b>concatenated</b></p><blockquote><p><b>sequenceElement</b></p><p><b>sequence</b>: <a href=\\\"broken-link.html\\\">MolecularSequence/Sequence0ConcatenatedExample: Sequence-of index 0-Resource for concatenated sequence example</a></p><p><b>ordinalIndex</b>: 0</p></blockquote><blockquote><p><b>sequenceElement</b></p><p><b>sequence</b>: <a href=\\\"broken-link.html\\\">MolecularSequence/Sequence1ConcatenatedExample: Sequence-of index 1-Resource for concatenated sequence example</a></p><p><b>ordinalIndex</b>: 1</p></blockquote><blockquote><p><b>sequenceElement</b></p><p><b>sequence</b>: <a href=\\\"broken-link.html\\\">MolecularSequence/Sequence2ConcatenatedExample: Sequence-of index 2-Resource for concatenated sequence example</a></p><p><b>ordinalIndex</b>: 2</p></blockquote></blockquote></div>\"}"
   ]
  },
  {
   "cell_type": "code",
   "execution_count": 3,
   "metadata": {},
   "outputs": [],
   "source": [
    "# MolecularSequenceLiteralPlus\n",
    "molecular_literal = MolecularSequenceLiteralPlus(sequenceValue='ATGAACAGACAAGTAAAAGACATGACAGYGATACTTTCCCAGAGCTGAAGTTAACAAATGCACCTGGTTC TTTTACTAAGTGTTCAAATACCAGTGAACTTAAAGAATTTGTCAATCCTAGCCTTCCAAGAGAAGAAAAA GAAGAGAAACTAGAAACAGTTAAAGTGTCTAATAATGCTGAAGACCCCAAAGATCTCATGTTAAGTGGAG AAAGGGTTTTGCAAACTGAAAGATCTGTAGAGAGTAGCAGTATTTCAYTGGTACCTGGTACTGATTATGG CACTCAGGAAAGTATCTCGTTACTGGAAGTTAGCACTCTAGGGAAGGCAAAAACAGAACCAAATAAATGT GTGAGTCAGTGTGCAGCATTTGAAAACCCCAAGGGACTAATTCATGGTTGTTCCAAAGATAATAGAAATG ACACAGAAGGCTTTAAGTATCCATTGGGACATGAAGTTAACCACAGTCGGGAAACAAGCATAGAAATGGA AGAAAGTGAACTTGATGCTCAGTATTTGCAGAATACATTCAAGGTTTCAAAGCGCCAGTCATTTGCTCYG TTTTCAAATCCAGGAAATGCAGAAGAGGAATGTGCAACATTCTCTGCCCACTCTGGGTCCTTAAAGAAAC AAAGTCCAAAAGTCACTTTTGAATGTGAACAAAAGGAAGAAAATCAAGGAAAGAATGAGTCTAATATCAA GCCTGTACAGACAGTTAATATCACTGCAGGCTTTCCTGTGGTTGGTCAGAAAGA')\n",
    "molecular_literal_list = [molecular_literal]"
   ]
  },
  {
   "cell_type": "code",
   "execution_count": 4,
   "metadata": {},
   "outputs": [
    {
     "data": {
      "text/plain": [
       "[Attachment(resource_type='Attachment', fhir_comments=None, extension=None, id=None, contentType='text/html', contentType__ext=None, creation=None, creation__ext=None, data=None, data__ext=None, duration=None, duration__ext=None, frames=None, frames__ext=None, hash=None, hash__ext=None, height=None, height__ext=None, language=None, language__ext=None, pages=None, pages__ext=None, size=None, size__ext=None, title=None, title__ext=None, url=AnyUrl('https://www.ncbi.nlm.nih.gov/nuccore/MW716256.1?report=fasta', scheme='https', host='www.ncbi.nlm.nih.gov', tld='gov', host_type='domain', path='/nuccore/MW716256.1', query='report=fasta'), url__ext=None, width=None, width__ext=None)]"
      ]
     },
     "execution_count": 4,
     "metadata": {},
     "output_type": "execute_result"
    }
   ],
   "source": [
    "# MolecularSequenceFormated\n",
    "molecular_formated = Attachment(contentType='text/html',\n",
    "                                url=\"https://www.ncbi.nlm.nih.gov/nuccore/MW716256.1?report=fasta\")\n",
    "molecular_formated_list = [molecular_formated]\n",
    "molecular_formated_list"
   ]
  },
  {
   "cell_type": "code",
   "execution_count": 5,
   "metadata": {},
   "outputs": [
    {
     "data": {
      "text/plain": [
       "[MolecularSequenceRelativeEditPlus(resource_type='MolecularSequenceRelativeEditPlus', fhir_comments=None, extension=None, id=None, modifierExtension=None, editOrder=None, coordinateSystem=CodeableConcept(resource_type='CodeableConcept', fhir_comments=None, extension=None, id=None, coding=[Coding(resource_type='Coding', fhir_comments=None, extension=None, id=None, code='LA30100-4', code__ext=None, display='0-based interval counting', display__ext=None, system='http://loinc.org', system__ext=None, userSelected=None, userSelected__ext=None, version=None, version__ext=None)], text='0-based interval counting', text__ext=None), start=0, start__ext=None, end=725, end__ext=None, replacementSequence=Reference(resource_type='Reference', fhir_comments=None, extension=None, id=None, display='Replacement Sequence Resource', display__ext=None, identifier=None, reference='MolecularSequence/ReplacementSequenceExample', reference__ext=None, type='MolecularSequence', type__ext=None), replacementSequence__ext=None, replacedSequence=Reference(resource_type='Reference', fhir_comments=None, extension=None, id=None, display='Replacement Sequence Resource', display__ext=None, identifier=None, reference='MolecularSequence/ReplacementSequenceExample', reference__ext=None, type='MolecularSequence', type__ext=None), replacedSequence__ext=None)]"
      ]
     },
     "execution_count": 5,
     "metadata": {},
     "output_type": "execute_result"
    }
   ],
   "source": [
    "# MolecularSequenceRelativeEditPlus\n",
    "molecular_relative_edit = MolecularSequenceRelativeEditPlus(\n",
    "    coordinateSystem=CodeableConcept(coding=[{\"system\" : \"http://loinc.org\",\"code\" : \"LA30100-4\",\"display\" : \"0-based interval counting\"}],text=\"0-based interval counting\"),\n",
    "    start=0,\n",
    "    end=725,\n",
    "    replacementSequence=Reference(reference='MolecularSequence/ReplacementSequenceExample',\n",
    "                                  type='MolecularSequence',\n",
    "                                  display=\"Replacement Sequence Resource\"),\n",
    "    replacedSequence=Reference(reference='MolecularSequence/ReplacementSequenceExample',\n",
    "                               type='MolecularSequence',\n",
    "                               display=\"Replacement Sequence Resource\")\n",
    "      )\n",
    "molecular_relative_edit_list = [molecular_relative_edit]\n",
    "molecular_relative_edit_list"
   ]
  },
  {
   "cell_type": "code",
   "execution_count": 6,
   "metadata": {},
   "outputs": [
    {
     "data": {
      "text/plain": [
       "[MolecularSequenceRelativePlus(resource_type='MolecularSequenceRelativePlus', fhir_comments=None, extension=None, id=None, modifierExtension=None, startingSequence=Reference(resource_type='Reference', fhir_comments=None, extension=None, id=None, display='Starting Sequence Resource', display__ext=None, identifier=None, reference='MolecularSequence/StartingSequenceExample', reference__ext=None, type='MolecularSequence', type__ext=None), edit=[MolecularSequenceRelativeEditPlus(resource_type='MolecularSequenceRelativeEditPlus', fhir_comments=None, extension=None, id=None, modifierExtension=None, editOrder=None, coordinateSystem=CodeableConcept(resource_type='CodeableConcept', fhir_comments=None, extension=None, id=None, coding=[Coding(resource_type='Coding', fhir_comments=None, extension=None, id=None, code='LA30100-4', code__ext=None, display='0-based interval counting', display__ext=None, system='http://loinc.org', system__ext=None, userSelected=None, userSelected__ext=None, version=None, version__ext=None)], text='0-based interval counting', text__ext=None), start=0, start__ext=None, end=725, end__ext=None, replacementSequence=Reference(resource_type='Reference', fhir_comments=None, extension=None, id=None, display='Replacement Sequence Resource', display__ext=None, identifier=None, reference='MolecularSequence/ReplacementSequenceExample', reference__ext=None, type='MolecularSequence', type__ext=None), replacementSequence__ext=None, replacedSequence=Reference(resource_type='Reference', fhir_comments=None, extension=None, id=None, display='Replacement Sequence Resource', display__ext=None, identifier=None, reference='MolecularSequence/ReplacementSequenceExample', reference__ext=None, type='MolecularSequence', type__ext=None), replacedSequence__ext=None)])]"
      ]
     },
     "execution_count": 6,
     "metadata": {},
     "output_type": "execute_result"
    }
   ],
   "source": [
    "# MolecularSequenceRelativePlus\n",
    "molecular_relative = MolecularSequenceRelativePlus(\n",
    "    startingSequence=Reference(reference='MolecularSequence/StartingSequenceExample',\n",
    "                               type='MolecularSequence',\n",
    "                               display=\"Starting Sequence Resource\"),\n",
    "    edit=molecular_relative_edit_list)\n",
    "molecular_relative_list=[molecular_relative]\n",
    "molecular_relative_list"
   ]
  },
  {
   "cell_type": "code",
   "execution_count": 7,
   "metadata": {},
   "outputs": [
    {
     "data": {
      "text/plain": [
       "[MolecularSequenceExtracted(resource_type='MolecularSequenceExtracted', fhir_comments=None, extension=None, id=None, modifierExtension=None, startingSequence=Reference(resource_type='Reference', fhir_comments=None, extension=None, id=None, display='Starting Sequence Resource', display__ext=None, identifier=None, reference='MolecularSequence/StartingSequenceExample', reference__ext=None, type='MolecularSequence', type__ext=None), start=0, start__ext=None, end=745, end__ext=None, coordinateSystem=CodeableConcept(resource_type='CodeableConcept', fhir_comments=None, extension=None, id=None, coding=[Coding(resource_type='Coding', fhir_comments=None, extension=None, id=None, code='LA30100-4', code__ext=None, display='0-based interval counting', display__ext=None, system='http://loinc.org', system__ext=None, userSelected=None, userSelected__ext=None, version=None, version__ext=None)], text='0-based interval counting', text__ext=None), reverseComplement=False)]"
      ]
     },
     "execution_count": 7,
     "metadata": {},
     "output_type": "execute_result"
    }
   ],
   "source": [
    "# MolecularSequenceExtracted\n",
    "molecular_extracted = MolecularSequenceExtracted(\n",
    "    startingSequence=Reference(reference='MolecularSequence/StartingSequenceExample',\n",
    "                               type='MolecularSequence',\n",
    "                               display='Starting Sequence Resource'),\n",
    "    start=0,\n",
    "    end=745,\n",
    "    coordinateSystem=CodeableConcept(coding=[{\"system\" : \"http://loinc.org\",\"code\" : \"LA30100-4\",\"display\" : \"0-based interval counting\"}],\n",
    "                                     text='0-based interval counting'),\n",
    "    reverseComplement=False\n",
    ")\n",
    "molecular_extracted_list = [molecular_extracted]\n",
    "molecular_extracted_list"
   ]
  },
  {
   "cell_type": "code",
   "execution_count": 8,
   "metadata": {},
   "outputs": [
    {
     "data": {
      "text/plain": [
       "[MolecularSequenceRepeated(resource_type='MolecularSequenceRepeated', fhir_comments=None, extension=None, id=None, modifierExtension=None, sequenceMotif=Reference(resource_type='Reference', fhir_comments=None, extension=None, id=None, display='Sequence-of motif example', display__ext=None, identifier=None, reference='MolecularSequence/motif_example', reference__ext=None, type='MoleculareSequence', type__ext=None), copyCount=4)]"
      ]
     },
     "execution_count": 8,
     "metadata": {},
     "output_type": "execute_result"
    }
   ],
   "source": [
    "# MolecularSequenceRepeated\n",
    "molecular_repeated = MolecularSequenceRepeated(sequenceMotif=Reference(reference=\"MolecularSequence/motif_example\",\n",
    "                                                                       type='MoleculareSequence',\n",
    "                                                                       display='Sequence-of motif example'),\n",
    "                                               copyCount=4)\n",
    "molecular_repeated_list = [molecular_repeated]\n",
    "molecular_repeated_list"
   ]
  },
  {
   "cell_type": "code",
   "execution_count": 9,
   "metadata": {},
   "outputs": [
    {
     "data": {
      "text/plain": [
       "[MolecularSequenceConcatenatedSequenceElement(resource_type='MolecularSequenceConcatenatedSequenceElement', fhir_comments=None, extension=None, id=None, modifierExtension=None, sequence=Reference(resource_type='Reference', fhir_comments=None, extension=None, id=None, display='Sequence-of index 0-Resource for concatenated sequence example', display__ext=None, identifier=None, reference='MolecularSequence/Sequence0ConcatenatedExample', reference__ext=None, type='MolecularSequence', type__ext=None), ordinalIndex=0),\n",
       " MolecularSequenceConcatenatedSequenceElement(resource_type='MolecularSequenceConcatenatedSequenceElement', fhir_comments=None, extension=None, id=None, modifierExtension=None, sequence=Reference(resource_type='Reference', fhir_comments=None, extension=None, id=None, display='Sequence-of index 1-Resource for concatenated sequence example', display__ext=None, identifier=None, reference='MolecularSequence/Sequence1ConcatenatedExample', reference__ext=None, type='MolecularSequence', type__ext=None), ordinalIndex=1),\n",
       " MolecularSequenceConcatenatedSequenceElement(resource_type='MolecularSequenceConcatenatedSequenceElement', fhir_comments=None, extension=None, id=None, modifierExtension=None, sequence=Reference(resource_type='Reference', fhir_comments=None, extension=None, id=None, display='Sequence-of index 2-Resource for concatenated sequence example', display__ext=None, identifier=None, reference='MolecularSequence/Sequence2ConcatenatedExample', reference__ext=None, type='MolecularSequence', type__ext=None), ordinalIndex=2)]"
      ]
     },
     "execution_count": 9,
     "metadata": {},
     "output_type": "execute_result"
    }
   ],
   "source": [
    "# MolecularSequenceConcatenatedSequenceElement\n",
    "molecular_concatenated_sequenceElement_0 = MolecularSequenceConcatenatedSequenceElement(\n",
    "    sequence=Reference(reference=\"MolecularSequence/Sequence0ConcatenatedExample\",\n",
    "                       type=\"MolecularSequence\",\n",
    "                       display=\"Sequence-of index 0-Resource for concatenated sequence example\"),\n",
    "    ordinalIndex=0\n",
    ")\n",
    "\n",
    "molecular_concatenated_sequenceElement_1 = MolecularSequenceConcatenatedSequenceElement(\n",
    "    sequence=Reference(reference=\"MolecularSequence/Sequence1ConcatenatedExample\",\n",
    "                       type=\"MolecularSequence\",\n",
    "                       display=\"Sequence-of index 1-Resource for concatenated sequence example\"),\n",
    "    ordinalIndex=1\n",
    ")\n",
    "\n",
    "molecular_concatenated_sequenceElement_2 = MolecularSequenceConcatenatedSequenceElement(\n",
    "    sequence=Reference(reference=\"MolecularSequence/Sequence2ConcatenatedExample\",\n",
    "                       type=\"MolecularSequence\",\n",
    "                       display=\"Sequence-of index 2-Resource for concatenated sequence example\"),\n",
    "    ordinalIndex=2\n",
    ")\n",
    "\n",
    "molecular_concatenated_sequenceElement_list = [molecular_concatenated_sequenceElement_0,molecular_concatenated_sequenceElement_1,molecular_concatenated_sequenceElement_2]\n",
    "molecular_concatenated_sequenceElement_list"
   ]
  },
  {
   "cell_type": "code",
   "execution_count": 10,
   "metadata": {},
   "outputs": [
    {
     "data": {
      "text/plain": [
       "[MolecularSequenceConcatenated(resource_type='MolecularSequenceConcatenated', fhir_comments=None, extension=None, id=None, modifierExtension=None, sequenceElement=[MolecularSequenceConcatenatedSequenceElement(resource_type='MolecularSequenceConcatenatedSequenceElement', fhir_comments=None, extension=None, id=None, modifierExtension=None, sequence=Reference(resource_type='Reference', fhir_comments=None, extension=None, id=None, display='Sequence-of index 0-Resource for concatenated sequence example', display__ext=None, identifier=None, reference='MolecularSequence/Sequence0ConcatenatedExample', reference__ext=None, type='MolecularSequence', type__ext=None), ordinalIndex=0), MolecularSequenceConcatenatedSequenceElement(resource_type='MolecularSequenceConcatenatedSequenceElement', fhir_comments=None, extension=None, id=None, modifierExtension=None, sequence=Reference(resource_type='Reference', fhir_comments=None, extension=None, id=None, display='Sequence-of index 1-Resource for concatenated sequence example', display__ext=None, identifier=None, reference='MolecularSequence/Sequence1ConcatenatedExample', reference__ext=None, type='MolecularSequence', type__ext=None), ordinalIndex=1), MolecularSequenceConcatenatedSequenceElement(resource_type='MolecularSequenceConcatenatedSequenceElement', fhir_comments=None, extension=None, id=None, modifierExtension=None, sequence=Reference(resource_type='Reference', fhir_comments=None, extension=None, id=None, display='Sequence-of index 2-Resource for concatenated sequence example', display__ext=None, identifier=None, reference='MolecularSequence/Sequence2ConcatenatedExample', reference__ext=None, type='MolecularSequence', type__ext=None), ordinalIndex=2)])]"
      ]
     },
     "execution_count": 10,
     "metadata": {},
     "output_type": "execute_result"
    }
   ],
   "source": [
    "# MolecularSequenceConcatenated\n",
    "molecular_concatenated = MolecularSequenceConcatenated(sequenceElement=molecular_concatenated_sequenceElement_list)\n",
    "molecular_concatenated_list = [molecular_concatenated]\n",
    "molecular_concatenated_list"
   ]
  },
  {
   "cell_type": "code",
   "execution_count": 11,
   "metadata": {},
   "outputs": [
    {
     "data": {
      "text/plain": [
       "MolecularSequencePlus(resource_type='MolecularSequencePlus', fhir_comments=None, id='example', implicitRules=None, implicitRules__ext=None, language=None, language__ext=None, meta=None, contained=None, extension=None, modifierExtension=None, text=Narrative(resource_type='Narrative', fhir_comments=None, extension=None, id=None, div='<div xmlns=\"http://www.w3.org/1999/xhtml\"><p><b>Generated Narrative: MolecularSequence</b><a name=\"example\"> </a></p><div style=\"display: inline-block; background-color: #d9e0e7; padding: 6px; margin: 4px; border: 1px solid #8da1b4; border-radius: 5px; line-height: 60%\"><p style=\"margin-bottom: 0px\">Resource MolecularSequence &quot;example&quot; </p></div><p><b>type</b>: dna</p><h3>Literals</h3><table class=\"grid\"><tr><td style=\"display: none\">-</td><td><b>SequenceValue</b></td></tr><tr><td style=\"display: none\">*</td><td>ATGAACAGACAAGTAAAAGACATGACAGYGATACTTTCCCAGAGCTGAAGTTAACAAATGCACCTGGTTC TTTTACTAAGTGTTCAAATACCAGTGAACTTAAAGAATTTGTCAATCCTAGCCTTCCAAGAGAAGAAAAA GAAGAGAAACTAGAAACAGTTAAAGTGTCTAATAATGCTGAAGACCCCAAAGATCTCATGTTAAGTGGAG AAAGGGTTTTGCAAACTGAAAGATCTGTAGAGAGTAGCAGTATTTCAYTGGTACCTGGTACTGATTATGG CACTCAGGAAAGTATCTCGTTACTGGAAGTTAGCACTCTAGGGAAGGCAAAAACAGAACCAAATAAATGT GTGAGTCAGTGTGCAGCATTTGAAAACCCCAAGGGACTAATTCATGGTTGTTCCAAAGATAATAGAAATG ACACAGAAGGCTTTAAGTATCCATTGGGACATGAAGTTAACCACAGTCGGGAAACAAGCATAGAAATGGA AGAAAGTGAACTTGATGCTCAGTATTTGCAGAATACATTCAAGGTTTCAAAGCGCCAGTCATTTGCTCYG TTTTCAAATCCAGGAAATGCAGAAGAGGAATGTGCAACATTCTCTGCCCACTCTGGGTCCTTAAAGAAAC AAAGTCCAAAAGTCACTTTTGAATGTGAACAAAAGGAAGAAAATCAAGGAAAGAATGAGTCTAATATCAA GCCTGTACAGACAGTTAATATCACTGCAGGCTTTCCTGTGGTTGGTCAGAAAGA</td></tr></table><h3>Formatteds</h3><table class=\"grid\"><tr><td style=\"display: none\">-</td><td><b>ContentType</b></td><td><b>Url</b></td></tr><tr><td style=\"display: none\">*</td><td>text/html</td><td><a href=\"https://www.ncbi.nlm.nih.gov/nuccore/MW716256.1?report=fasta\">https://www.ncbi.nlm.nih.gov/nuccore/MW716256.1?report=fasta</a></td></tr></table><blockquote><p><b>relative</b></p><p><b>startingSequence</b>: <a href=\"broken-link.html\">MolecularSequence/StartingSequenceExample: Starting Sequence Resource</a></p><h3>Edits</h3><table class=\"grid\"><tr><td style=\"display: none\">-</td><td><b>CoordinateSystem</b></td><td><b>Start</b></td><td><b>End</b></td><td><b>ReplacementSequence</b></td><td><b>ReplacedSequence</b></td></tr><tr><td style=\"display: none\">*</td><td>0-based interval counting <span style=\"background: LightGoldenRodYellow; margin: 4px; border: 1px solid khaki\"> (<a href=\"https://loinc.org/\">LOINC</a>#LA30100-4)</span></td><td>0</td><td>725</td><td><a href=\"broken-link.html\">MolecularSequence/ReplacementSequenceExample: Replacement Sequence Resource</a></td><td><a href=\"broken-link.html\">MolecularSequence/ReplacedSequenceExample: Replaced Sequence Resource</a></td></tr></table></blockquote><h3>Extracteds</h3><table class=\"grid\"><tr><td style=\"display: none\">-</td><td><b>StartingSequence</b></td><td><b>Start</b></td><td><b>End</b></td><td><b>CoordinateSystem</b></td><td><b>ReverseComplement</b></td></tr><tr><td style=\"display: none\">*</td><td><a href=\"broken-link.html\">MolecularSequence/StartingSequenceExample: Starting Sequence Resource</a></td><td>0</td><td>745</td><td>0-based interval counting <span style=\"background: LightGoldenRodYellow; margin: 4px; border: 1px solid khaki\"> (<a href=\"https://loinc.org/\">LOINC</a>#LA30100-4)</span></td><td>false</td></tr></table><blockquote><p><b>concatenated</b></p><blockquote><p><b>sequenceElement</b></p><p><b>sequence</b>: <a href=\"broken-link.html\">MolecularSequence/Sequence0ConcatenatedExample: Sequence-of index 0-Resource for concatenated sequence example</a></p><p><b>ordinalIndex</b>: 0</p></blockquote><blockquote><p><b>sequenceElement</b></p><p><b>sequence</b>: <a href=\"broken-link.html\">MolecularSequence/Sequence1ConcatenatedExample: Sequence-of index 1-Resource for concatenated sequence example</a></p><p><b>ordinalIndex</b>: 1</p></blockquote><blockquote><p><b>sequenceElement</b></p><p><b>sequence</b>: <a href=\"broken-link.html\">MolecularSequence/Sequence2ConcatenatedExample: Sequence-of index 2-Resource for concatenated sequence example</a></p><p><b>ordinalIndex</b>: 2</p></blockquote></blockquote></div>', div__ext=None, status='generated', status__ext=None), identifier=None, type='dna', type__ext=None, literal=[MolecularSequenceLiteralPlus(resource_type='MolecularSequenceLiteralPlus', fhir_comments=None, extension=None, id=None, modifierExtension=None, sequenceValue='ATGAACAGACAAGTAAAAGACATGACAGYGATACTTTCCCAGAGCTGAAGTTAACAAATGCACCTGGTTC TTTTACTAAGTGTTCAAATACCAGTGAACTTAAAGAATTTGTCAATCCTAGCCTTCCAAGAGAAGAAAAA GAAGAGAAACTAGAAACAGTTAAAGTGTCTAATAATGCTGAAGACCCCAAAGATCTCATGTTAAGTGGAG AAAGGGTTTTGCAAACTGAAAGATCTGTAGAGAGTAGCAGTATTTCAYTGGTACCTGGTACTGATTATGG CACTCAGGAAAGTATCTCGTTACTGGAAGTTAGCACTCTAGGGAAGGCAAAAACAGAACCAAATAAATGT GTGAGTCAGTGTGCAGCATTTGAAAACCCCAAGGGACTAATTCATGGTTGTTCCAAAGATAATAGAAATG ACACAGAAGGCTTTAAGTATCCATTGGGACATGAAGTTAACCACAGTCGGGAAACAAGCATAGAAATGGA AGAAAGTGAACTTGATGCTCAGTATTTGCAGAATACATTCAAGGTTTCAAAGCGCCAGTCATTTGCTCYG TTTTCAAATCCAGGAAATGCAGAAGAGGAATGTGCAACATTCTCTGCCCACTCTGGGTCCTTAAAGAAAC AAAGTCCAAAAGTCACTTTTGAATGTGAACAAAAGGAAGAAAATCAAGGAAAGAATGAGTCTAATATCAA GCCTGTACAGACAGTTAATATCACTGCAGGCTTTCCTGTGGTTGGTCAGAAAGA', encoding=None)], literal__ext=None, formatted=[Attachment(resource_type='Attachment', fhir_comments=None, extension=None, id=None, contentType='text/html', contentType__ext=None, creation=None, creation__ext=None, data=None, data__ext=None, duration=None, duration__ext=None, frames=None, frames__ext=None, hash=None, hash__ext=None, height=None, height__ext=None, language=None, language__ext=None, pages=None, pages__ext=None, size=None, size__ext=None, title=None, title__ext=None, url=AnyUrl('https://www.ncbi.nlm.nih.gov/nuccore/MW716256.1?report=fasta', scheme='https', host='www.ncbi.nlm.nih.gov', tld='gov', host_type='domain', path='/nuccore/MW716256.1', query='report=fasta'), url__ext=None, width=None, width__ext=None)], relative=[MolecularSequenceRelativePlus(resource_type='MolecularSequenceRelativePlus', fhir_comments=None, extension=None, id=None, modifierExtension=None, startingSequence=Reference(resource_type='Reference', fhir_comments=None, extension=None, id=None, display='Starting Sequence Resource', display__ext=None, identifier=None, reference='MolecularSequence/StartingSequenceExample', reference__ext=None, type='MolecularSequence', type__ext=None), edit=[MolecularSequenceRelativeEditPlus(resource_type='MolecularSequenceRelativeEditPlus', fhir_comments=None, extension=None, id=None, modifierExtension=None, editOrder=None, coordinateSystem=CodeableConcept(resource_type='CodeableConcept', fhir_comments=None, extension=None, id=None, coding=[Coding(resource_type='Coding', fhir_comments=None, extension=None, id=None, code='LA30100-4', code__ext=None, display='0-based interval counting', display__ext=None, system='http://loinc.org', system__ext=None, userSelected=None, userSelected__ext=None, version=None, version__ext=None)], text='0-based interval counting', text__ext=None), start=0, start__ext=None, end=725, end__ext=None, replacementSequence=Reference(resource_type='Reference', fhir_comments=None, extension=None, id=None, display='Replacement Sequence Resource', display__ext=None, identifier=None, reference='MolecularSequence/ReplacementSequenceExample', reference__ext=None, type='MolecularSequence', type__ext=None), replacementSequence__ext=None, replacedSequence=Reference(resource_type='Reference', fhir_comments=None, extension=None, id=None, display='Replacement Sequence Resource', display__ext=None, identifier=None, reference='MolecularSequence/ReplacementSequenceExample', reference__ext=None, type='MolecularSequence', type__ext=None), replacedSequence__ext=None)])], extracted=[MolecularSequenceExtracted(resource_type='MolecularSequenceExtracted', fhir_comments=None, extension=None, id=None, modifierExtension=None, startingSequence=Reference(resource_type='Reference', fhir_comments=None, extension=None, id=None, display='Starting Sequence Resource', display__ext=None, identifier=None, reference='MolecularSequence/StartingSequenceExample', reference__ext=None, type='MolecularSequence', type__ext=None), start=0, start__ext=None, end=745, end__ext=None, coordinateSystem=CodeableConcept(resource_type='CodeableConcept', fhir_comments=None, extension=None, id=None, coding=[Coding(resource_type='Coding', fhir_comments=None, extension=None, id=None, code='LA30100-4', code__ext=None, display='0-based interval counting', display__ext=None, system='http://loinc.org', system__ext=None, userSelected=None, userSelected__ext=None, version=None, version__ext=None)], text='0-based interval counting', text__ext=None), reverseComplement=False)], repeated=[MolecularSequenceRepeated(resource_type='MolecularSequenceRepeated', fhir_comments=None, extension=None, id=None, modifierExtension=None, sequenceMotif=Reference(resource_type='Reference', fhir_comments=None, extension=None, id=None, display='Sequence-of motif example', display__ext=None, identifier=None, reference='MolecularSequence/motif_example', reference__ext=None, type='MoleculareSequence', type__ext=None), copyCount=4)], concatenated=[MolecularSequenceConcatenated(resource_type='MolecularSequenceConcatenated', fhir_comments=None, extension=None, id=None, modifierExtension=None, sequenceElement=[MolecularSequenceConcatenatedSequenceElement(resource_type='MolecularSequenceConcatenatedSequenceElement', fhir_comments=None, extension=None, id=None, modifierExtension=None, sequence=Reference(resource_type='Reference', fhir_comments=None, extension=None, id=None, display='Sequence-of index 0-Resource for concatenated sequence example', display__ext=None, identifier=None, reference='MolecularSequence/Sequence0ConcatenatedExample', reference__ext=None, type='MolecularSequence', type__ext=None), ordinalIndex=0), MolecularSequenceConcatenatedSequenceElement(resource_type='MolecularSequenceConcatenatedSequenceElement', fhir_comments=None, extension=None, id=None, modifierExtension=None, sequence=Reference(resource_type='Reference', fhir_comments=None, extension=None, id=None, display='Sequence-of index 1-Resource for concatenated sequence example', display__ext=None, identifier=None, reference='MolecularSequence/Sequence1ConcatenatedExample', reference__ext=None, type='MolecularSequence', type__ext=None), ordinalIndex=1), MolecularSequenceConcatenatedSequenceElement(resource_type='MolecularSequenceConcatenatedSequenceElement', fhir_comments=None, extension=None, id=None, modifierExtension=None, sequence=Reference(resource_type='Reference', fhir_comments=None, extension=None, id=None, display='Sequence-of index 2-Resource for concatenated sequence example', display__ext=None, identifier=None, reference='MolecularSequence/Sequence2ConcatenatedExample', reference__ext=None, type='MolecularSequence', type__ext=None), ordinalIndex=2)])])"
      ]
     },
     "execution_count": 11,
     "metadata": {},
     "output_type": "execute_result"
    }
   ],
   "source": [
    "#MolecularSequencePlus\n",
    "molecular_sequence_plus_example = MolecularSequencePlus(resource_type=\"MolecularSequencePlus\",\n",
    "                                id=\"example\",\n",
    "                                text=text,\n",
    "                                type='dna',\n",
    "                                literal=molecular_literal_list,\n",
    "                                formatted=molecular_formated_list,\n",
    "                                relative=molecular_relative_list,\n",
    "                                extracted=molecular_extracted_list,\n",
    "                                repeated=molecular_repeated_list,\n",
    "                                concatenated=molecular_concatenated_list)\n",
    "molecular_sequence_plus_example"
   ]
  },
  {
   "cell_type": "code",
   "execution_count": 12,
   "metadata": {},
   "outputs": [
    {
     "name": "stdout",
     "output_type": "stream",
     "text": [
      "{\n",
      " \"resourceType\": \"MolecularSequencePlus\",\n",
      " \"id\": \"example\",\n",
      " \"text\": {\n",
      "  \"status\": \"generated\",\n",
      "  \"div\": \"<div xmlns=\\\"http://www.w3.org/1999/xhtml\\\"><p><b>Generated Narrative: MolecularSequence</b><a name=\\\"example\\\"> </a></p><div style=\\\"display: inline-block; background-color: #d9e0e7; padding: 6px; margin: 4px; border: 1px solid #8da1b4; border-radius: 5px; line-height: 60%\\\"><p style=\\\"margin-bottom: 0px\\\">Resource MolecularSequence &quot;example&quot; </p></div><p><b>type</b>: dna</p><h3>Literals</h3><table class=\\\"grid\\\"><tr><td style=\\\"display: none\\\">-</td><td><b>SequenceValue</b></td></tr><tr><td style=\\\"display: none\\\">*</td><td>ATGAACAGACAAGTAAAAGACATGACAGYGATACTTTCCCAGAGCTGAAGTTAACAAATGCACCTGGTTC TTTTACTAAGTGTTCAAATACCAGTGAACTTAAAGAATTTGTCAATCCTAGCCTTCCAAGAGAAGAAAAA GAAGAGAAACTAGAAACAGTTAAAGTGTCTAATAATGCTGAAGACCCCAAAGATCTCATGTTAAGTGGAG AAAGGGTTTTGCAAACTGAAAGATCTGTAGAGAGTAGCAGTATTTCAYTGGTACCTGGTACTGATTATGG CACTCAGGAAAGTATCTCGTTACTGGAAGTTAGCACTCTAGGGAAGGCAAAAACAGAACCAAATAAATGT GTGAGTCAGTGTGCAGCATTTGAAAACCCCAAGGGACTAATTCATGGTTGTTCCAAAGATAATAGAAATG ACACAGAAGGCTTTAAGTATCCATTGGGACATGAAGTTAACCACAGTCGGGAAACAAGCATAGAAATGGA AGAAAGTGAACTTGATGCTCAGTATTTGCAGAATACATTCAAGGTTTCAAAGCGCCAGTCATTTGCTCYG TTTTCAAATCCAGGAAATGCAGAAGAGGAATGTGCAACATTCTCTGCCCACTCTGGGTCCTTAAAGAAAC AAAGTCCAAAAGTCACTTTTGAATGTGAACAAAAGGAAGAAAATCAAGGAAAGAATGAGTCTAATATCAA GCCTGTACAGACAGTTAATATCACTGCAGGCTTTCCTGTGGTTGGTCAGAAAGA</td></tr></table><h3>Formatteds</h3><table class=\\\"grid\\\"><tr><td style=\\\"display: none\\\">-</td><td><b>ContentType</b></td><td><b>Url</b></td></tr><tr><td style=\\\"display: none\\\">*</td><td>text/html</td><td><a href=\\\"https://www.ncbi.nlm.nih.gov/nuccore/MW716256.1?report=fasta\\\">https://www.ncbi.nlm.nih.gov/nuccore/MW716256.1?report=fasta</a></td></tr></table><blockquote><p><b>relative</b></p><p><b>startingSequence</b>: <a href=\\\"broken-link.html\\\">MolecularSequence/StartingSequenceExample: Starting Sequence Resource</a></p><h3>Edits</h3><table class=\\\"grid\\\"><tr><td style=\\\"display: none\\\">-</td><td><b>CoordinateSystem</b></td><td><b>Start</b></td><td><b>End</b></td><td><b>ReplacementSequence</b></td><td><b>ReplacedSequence</b></td></tr><tr><td style=\\\"display: none\\\">*</td><td>0-based interval counting <span style=\\\"background: LightGoldenRodYellow; margin: 4px; border: 1px solid khaki\\\"> (<a href=\\\"https://loinc.org/\\\">LOINC</a>#LA30100-4)</span></td><td>0</td><td>725</td><td><a href=\\\"broken-link.html\\\">MolecularSequence/ReplacementSequenceExample: Replacement Sequence Resource</a></td><td><a href=\\\"broken-link.html\\\">MolecularSequence/ReplacedSequenceExample: Replaced Sequence Resource</a></td></tr></table></blockquote><h3>Extracteds</h3><table class=\\\"grid\\\"><tr><td style=\\\"display: none\\\">-</td><td><b>StartingSequence</b></td><td><b>Start</b></td><td><b>End</b></td><td><b>CoordinateSystem</b></td><td><b>ReverseComplement</b></td></tr><tr><td style=\\\"display: none\\\">*</td><td><a href=\\\"broken-link.html\\\">MolecularSequence/StartingSequenceExample: Starting Sequence Resource</a></td><td>0</td><td>745</td><td>0-based interval counting <span style=\\\"background: LightGoldenRodYellow; margin: 4px; border: 1px solid khaki\\\"> (<a href=\\\"https://loinc.org/\\\">LOINC</a>#LA30100-4)</span></td><td>false</td></tr></table><blockquote><p><b>concatenated</b></p><blockquote><p><b>sequenceElement</b></p><p><b>sequence</b>: <a href=\\\"broken-link.html\\\">MolecularSequence/Sequence0ConcatenatedExample: Sequence-of index 0-Resource for concatenated sequence example</a></p><p><b>ordinalIndex</b>: 0</p></blockquote><blockquote><p><b>sequenceElement</b></p><p><b>sequence</b>: <a href=\\\"broken-link.html\\\">MolecularSequence/Sequence1ConcatenatedExample: Sequence-of index 1-Resource for concatenated sequence example</a></p><p><b>ordinalIndex</b>: 1</p></blockquote><blockquote><p><b>sequenceElement</b></p><p><b>sequence</b>: <a href=\\\"broken-link.html\\\">MolecularSequence/Sequence2ConcatenatedExample: Sequence-of index 2-Resource for concatenated sequence example</a></p><p><b>ordinalIndex</b>: 2</p></blockquote></blockquote></div>\"\n",
      " },\n",
      " \"type\": \"dna\",\n",
      " \"literal\": [\n",
      "  {\n",
      "   \"sequenceValue\": \"ATGAACAGACAAGTAAAAGACATGACAGYGATACTTTCCCAGAGCTGAAGTTAACAAATGCACCTGGTTC TTTTACTAAGTGTTCAAATACCAGTGAACTTAAAGAATTTGTCAATCCTAGCCTTCCAAGAGAAGAAAAA GAAGAGAAACTAGAAACAGTTAAAGTGTCTAATAATGCTGAAGACCCCAAAGATCTCATGTTAAGTGGAG AAAGGGTTTTGCAAACTGAAAGATCTGTAGAGAGTAGCAGTATTTCAYTGGTACCTGGTACTGATTATGG CACTCAGGAAAGTATCTCGTTACTGGAAGTTAGCACTCTAGGGAAGGCAAAAACAGAACCAAATAAATGT GTGAGTCAGTGTGCAGCATTTGAAAACCCCAAGGGACTAATTCATGGTTGTTCCAAAGATAATAGAAATG ACACAGAAGGCTTTAAGTATCCATTGGGACATGAAGTTAACCACAGTCGGGAAACAAGCATAGAAATGGA AGAAAGTGAACTTGATGCTCAGTATTTGCAGAATACATTCAAGGTTTCAAAGCGCCAGTCATTTGCTCYG TTTTCAAATCCAGGAAATGCAGAAGAGGAATGTGCAACATTCTCTGCCCACTCTGGGTCCTTAAAGAAAC AAAGTCCAAAAGTCACTTTTGAATGTGAACAAAAGGAAGAAAATCAAGGAAAGAATGAGTCTAATATCAA GCCTGTACAGACAGTTAATATCACTGCAGGCTTTCCTGTGGTTGGTCAGAAAGA\"\n",
      "  }\n",
      " ],\n",
      " \"formatted\": [\n",
      "  {\n",
      "   \"contentType\": \"text/html\",\n",
      "   \"url\": \"https://www.ncbi.nlm.nih.gov/nuccore/MW716256.1?report=fasta\"\n",
      "  }\n",
      " ],\n",
      " \"relative\": [\n",
      "  {\n",
      "   \"startingSequence\": {\n",
      "    \"reference\": \"MolecularSequence/StartingSequenceExample\",\n",
      "    \"type\": \"MolecularSequence\",\n",
      "    \"display\": \"Starting Sequence Resource\"\n",
      "   },\n",
      "   \"edit\": [\n",
      "    {\n",
      "     \"coordinateSystem\": {\n",
      "      \"coding\": [\n",
      "       {\n",
      "        \"system\": \"http://loinc.org\",\n",
      "        \"code\": \"LA30100-4\",\n",
      "        \"display\": \"0-based interval counting\"\n",
      "       }\n",
      "      ],\n",
      "      \"text\": \"0-based interval counting\"\n",
      "     },\n",
      "     \"start\": 0,\n",
      "     \"end\": 725,\n",
      "     \"replacementSequence\": {\n",
      "      \"reference\": \"MolecularSequence/ReplacementSequenceExample\",\n",
      "      \"type\": \"MolecularSequence\",\n",
      "      \"display\": \"Replacement Sequence Resource\"\n",
      "     },\n",
      "     \"replacedSequence\": {\n",
      "      \"reference\": \"MolecularSequence/ReplacementSequenceExample\",\n",
      "      \"type\": \"MolecularSequence\",\n",
      "      \"display\": \"Replacement Sequence Resource\"\n",
      "     }\n",
      "    }\n",
      "   ]\n",
      "  }\n",
      " ],\n",
      " \"extracted\": [\n",
      "  {\n",
      "   \"startingSequence\": {\n",
      "    \"reference\": \"MolecularSequence/StartingSequenceExample\",\n",
      "    \"type\": \"MolecularSequence\",\n",
      "    \"display\": \"Starting Sequence Resource\"\n",
      "   },\n",
      "   \"start\": 0,\n",
      "   \"end\": 745,\n",
      "   \"coordinateSystem\": {\n",
      "    \"coding\": [\n",
      "     {\n",
      "      \"system\": \"http://loinc.org\",\n",
      "      \"code\": \"LA30100-4\",\n",
      "      \"display\": \"0-based interval counting\"\n",
      "     }\n",
      "    ],\n",
      "    \"text\": \"0-based interval counting\"\n",
      "   },\n",
      "   \"reverseComplement\": false\n",
      "  }\n",
      " ],\n",
      " \"repeated\": [\n",
      "  {\n",
      "   \"sequenceMotif\": {\n",
      "    \"reference\": \"MolecularSequence/motif_example\",\n",
      "    \"type\": \"MoleculareSequence\",\n",
      "    \"display\": \"Sequence-of motif example\"\n",
      "   },\n",
      "   \"copyCount\": 4\n",
      "  }\n",
      " ],\n",
      " \"concatenated\": [\n",
      "  {\n",
      "   \"sequenceElement\": [\n",
      "    {\n",
      "     \"sequence\": {\n",
      "      \"reference\": \"MolecularSequence/Sequence0ConcatenatedExample\",\n",
      "      \"type\": \"MolecularSequence\",\n",
      "      \"display\": \"Sequence-of index 0-Resource for concatenated sequence example\"\n",
      "     },\n",
      "     \"ordinalIndex\": 0\n",
      "    },\n",
      "    {\n",
      "     \"sequence\": {\n",
      "      \"reference\": \"MolecularSequence/Sequence1ConcatenatedExample\",\n",
      "      \"type\": \"MolecularSequence\",\n",
      "      \"display\": \"Sequence-of index 1-Resource for concatenated sequence example\"\n",
      "     },\n",
      "     \"ordinalIndex\": 1\n",
      "    },\n",
      "    {\n",
      "     \"sequence\": {\n",
      "      \"reference\": \"MolecularSequence/Sequence2ConcatenatedExample\",\n",
      "      \"type\": \"MolecularSequence\",\n",
      "      \"display\": \"Sequence-of index 2-Resource for concatenated sequence example\"\n",
      "     },\n",
      "     \"ordinalIndex\": 2\n",
      "    }\n",
      "   ]\n",
      "  }\n",
      " ]\n",
      "}\n"
     ]
    }
   ],
   "source": [
    "print(molecular_sequence_plus_example.json(indent = 1))\n",
    "# print(json.dumps(molecular_sequence_plus_example.json(indent=1)))\n"
   ]
  },
  {
   "cell_type": "code",
   "execution_count": 13,
   "metadata": {},
   "outputs": [
    {
     "data": {
      "text/plain": [
       "{'resourceType': 'MolecularSequencePlus',\n",
       " 'id': 'example',\n",
       " 'text': {'status': 'generated',\n",
       "  'div': '<div xmlns=\"http://www.w3.org/1999/xhtml\"><p><b>Generated Narrative: MolecularSequence</b><a name=\"example\"> </a></p><div style=\"display: inline-block; background-color: #d9e0e7; padding: 6px; margin: 4px; border: 1px solid #8da1b4; border-radius: 5px; line-height: 60%\"><p style=\"margin-bottom: 0px\">Resource MolecularSequence &quot;example&quot; </p></div><p><b>type</b>: dna</p><h3>Literals</h3><table class=\"grid\"><tr><td style=\"display: none\">-</td><td><b>SequenceValue</b></td></tr><tr><td style=\"display: none\">*</td><td>ATGAACAGACAAGTAAAAGACATGACAGYGATACTTTCCCAGAGCTGAAGTTAACAAATGCACCTGGTTC TTTTACTAAGTGTTCAAATACCAGTGAACTTAAAGAATTTGTCAATCCTAGCCTTCCAAGAGAAGAAAAA GAAGAGAAACTAGAAACAGTTAAAGTGTCTAATAATGCTGAAGACCCCAAAGATCTCATGTTAAGTGGAG AAAGGGTTTTGCAAACTGAAAGATCTGTAGAGAGTAGCAGTATTTCAYTGGTACCTGGTACTGATTATGG CACTCAGGAAAGTATCTCGTTACTGGAAGTTAGCACTCTAGGGAAGGCAAAAACAGAACCAAATAAATGT GTGAGTCAGTGTGCAGCATTTGAAAACCCCAAGGGACTAATTCATGGTTGTTCCAAAGATAATAGAAATG ACACAGAAGGCTTTAAGTATCCATTGGGACATGAAGTTAACCACAGTCGGGAAACAAGCATAGAAATGGA AGAAAGTGAACTTGATGCTCAGTATTTGCAGAATACATTCAAGGTTTCAAAGCGCCAGTCATTTGCTCYG TTTTCAAATCCAGGAAATGCAGAAGAGGAATGTGCAACATTCTCTGCCCACTCTGGGTCCTTAAAGAAAC AAAGTCCAAAAGTCACTTTTGAATGTGAACAAAAGGAAGAAAATCAAGGAAAGAATGAGTCTAATATCAA GCCTGTACAGACAGTTAATATCACTGCAGGCTTTCCTGTGGTTGGTCAGAAAGA</td></tr></table><h3>Formatteds</h3><table class=\"grid\"><tr><td style=\"display: none\">-</td><td><b>ContentType</b></td><td><b>Url</b></td></tr><tr><td style=\"display: none\">*</td><td>text/html</td><td><a href=\"https://www.ncbi.nlm.nih.gov/nuccore/MW716256.1?report=fasta\">https://www.ncbi.nlm.nih.gov/nuccore/MW716256.1?report=fasta</a></td></tr></table><blockquote><p><b>relative</b></p><p><b>startingSequence</b>: <a href=\"broken-link.html\">MolecularSequence/StartingSequenceExample: Starting Sequence Resource</a></p><h3>Edits</h3><table class=\"grid\"><tr><td style=\"display: none\">-</td><td><b>CoordinateSystem</b></td><td><b>Start</b></td><td><b>End</b></td><td><b>ReplacementSequence</b></td><td><b>ReplacedSequence</b></td></tr><tr><td style=\"display: none\">*</td><td>0-based interval counting <span style=\"background: LightGoldenRodYellow; margin: 4px; border: 1px solid khaki\"> (<a href=\"https://loinc.org/\">LOINC</a>#LA30100-4)</span></td><td>0</td><td>725</td><td><a href=\"broken-link.html\">MolecularSequence/ReplacementSequenceExample: Replacement Sequence Resource</a></td><td><a href=\"broken-link.html\">MolecularSequence/ReplacedSequenceExample: Replaced Sequence Resource</a></td></tr></table></blockquote><h3>Extracteds</h3><table class=\"grid\"><tr><td style=\"display: none\">-</td><td><b>StartingSequence</b></td><td><b>Start</b></td><td><b>End</b></td><td><b>CoordinateSystem</b></td><td><b>ReverseComplement</b></td></tr><tr><td style=\"display: none\">*</td><td><a href=\"broken-link.html\">MolecularSequence/StartingSequenceExample: Starting Sequence Resource</a></td><td>0</td><td>745</td><td>0-based interval counting <span style=\"background: LightGoldenRodYellow; margin: 4px; border: 1px solid khaki\"> (<a href=\"https://loinc.org/\">LOINC</a>#LA30100-4)</span></td><td>false</td></tr></table><blockquote><p><b>concatenated</b></p><blockquote><p><b>sequenceElement</b></p><p><b>sequence</b>: <a href=\"broken-link.html\">MolecularSequence/Sequence0ConcatenatedExample: Sequence-of index 0-Resource for concatenated sequence example</a></p><p><b>ordinalIndex</b>: 0</p></blockquote><blockquote><p><b>sequenceElement</b></p><p><b>sequence</b>: <a href=\"broken-link.html\">MolecularSequence/Sequence1ConcatenatedExample: Sequence-of index 1-Resource for concatenated sequence example</a></p><p><b>ordinalIndex</b>: 1</p></blockquote><blockquote><p><b>sequenceElement</b></p><p><b>sequence</b>: <a href=\"broken-link.html\">MolecularSequence/Sequence2ConcatenatedExample: Sequence-of index 2-Resource for concatenated sequence example</a></p><p><b>ordinalIndex</b>: 2</p></blockquote></blockquote></div>'},\n",
       " 'type': 'dna',\n",
       " 'literal': [{'sequenceValue': 'ATGAACAGACAAGTAAAAGACATGACAGYGATACTTTCCCAGAGCTGAAGTTAACAAATGCACCTGGTTC TTTTACTAAGTGTTCAAATACCAGTGAACTTAAAGAATTTGTCAATCCTAGCCTTCCAAGAGAAGAAAAA GAAGAGAAACTAGAAACAGTTAAAGTGTCTAATAATGCTGAAGACCCCAAAGATCTCATGTTAAGTGGAG AAAGGGTTTTGCAAACTGAAAGATCTGTAGAGAGTAGCAGTATTTCAYTGGTACCTGGTACTGATTATGG CACTCAGGAAAGTATCTCGTTACTGGAAGTTAGCACTCTAGGGAAGGCAAAAACAGAACCAAATAAATGT GTGAGTCAGTGTGCAGCATTTGAAAACCCCAAGGGACTAATTCATGGTTGTTCCAAAGATAATAGAAATG ACACAGAAGGCTTTAAGTATCCATTGGGACATGAAGTTAACCACAGTCGGGAAACAAGCATAGAAATGGA AGAAAGTGAACTTGATGCTCAGTATTTGCAGAATACATTCAAGGTTTCAAAGCGCCAGTCATTTGCTCYG TTTTCAAATCCAGGAAATGCAGAAGAGGAATGTGCAACATTCTCTGCCCACTCTGGGTCCTTAAAGAAAC AAAGTCCAAAAGTCACTTTTGAATGTGAACAAAAGGAAGAAAATCAAGGAAAGAATGAGTCTAATATCAA GCCTGTACAGACAGTTAATATCACTGCAGGCTTTCCTGTGGTTGGTCAGAAAGA'}],\n",
       " 'formatted': [{'contentType': 'text/html',\n",
       "   'url': 'https://www.ncbi.nlm.nih.gov/nuccore/MW716256.1?report=fasta'}],\n",
       " 'relative': [{'startingSequence': {'reference': 'MolecularSequence/StartingSequenceExample',\n",
       "    'type': 'MolecularSequence',\n",
       "    'display': 'Starting Sequence Resource'},\n",
       "   'edit': [{'coordinateSystem': {'coding': [{'system': 'http://loinc.org',\n",
       "        'code': 'LA30100-4',\n",
       "        'display': '0-based interval counting'}],\n",
       "      'text': '0-based interval counting'},\n",
       "     'start': 0,\n",
       "     'end': 725,\n",
       "     'replacementSequence': {'reference': 'MolecularSequence/ReplacementSequenceExample',\n",
       "      'type': 'MolecularSequence',\n",
       "      'display': 'Replacement Sequence Resource'},\n",
       "     'replacedSequence': {'reference': 'MolecularSequence/ReplacedSequenceExample',\n",
       "      'type': 'MolecularSequence',\n",
       "      'display': 'Replaced Sequence Resource'}}]}],\n",
       " 'extracted': [{'startingSequence': {'reference': 'MolecularSequence/StartingSequenceExample',\n",
       "    'type': 'MolecularSequence',\n",
       "    'display': 'Starting Sequence Resource'},\n",
       "   'start': 0,\n",
       "   'end': 745,\n",
       "   'coordinateSystem': {'coding': [{'system': 'http://loinc.org',\n",
       "      'code': 'LA30100-4',\n",
       "      'display': '0-based interval counting'}],\n",
       "    'text': '0-based interval counting'},\n",
       "   'reverseComplement': False}],\n",
       " 'concatenated': {'sequenceElement': [{'sequence': {'reference': 'MolecularSequence/Sequence0ConcatenatedExample',\n",
       "     'type': 'MolecularSequence',\n",
       "     'display': 'Sequence-of index 0-Resource for concatenated sequence example'},\n",
       "    'ordinalIndex': 0},\n",
       "   {'sequence': {'reference': 'MolecularSequence/Sequence1ConcatenatedExample',\n",
       "     'type': 'MolecularSequence',\n",
       "     'display': 'Sequence-of index 1-Resource for concatenated sequence example'},\n",
       "    'ordinalIndex': 1},\n",
       "   {'sequence': {'reference': 'MolecularSequence/Sequence2ConcatenatedExample',\n",
       "     'type': 'MolecularSequence',\n",
       "     'display': 'Sequence-of index 2-Resource for concatenated sequence example'},\n",
       "    'ordinalIndex': 2}]}}"
      ]
     },
     "execution_count": 13,
     "metadata": {},
     "output_type": "execute_result"
    }
   ],
   "source": [
    "import json\n",
    "filename = '/Users/M278428/Documents/rf_lab_projects/fhir.resources/simple_sequence_example.json'\n",
    "    \n",
    "with open(filename, 'r', encoding='utf-8') as file:\n",
    "    file_content = file.read()\n",
    "data = json.loads(file_content)\n",
    "data\n"
   ]
  },
  {
   "cell_type": "code",
   "execution_count": 14,
   "metadata": {},
   "outputs": [
    {
     "data": {
      "text/plain": [
       "MolecularSequencePlus(resource_type='MolecularSequencePlus', fhir_comments=None, id='example', implicitRules=None, implicitRules__ext=None, language=None, language__ext=None, meta=None, contained=None, extension=None, modifierExtension=None, text=Narrative(resource_type='Narrative', fhir_comments=None, extension=None, id=None, div='<div xmlns=\"http://www.w3.org/1999/xhtml\"><p><b>Generated Narrative: MolecularSequence</b><a name=\"example\"> </a></p><div style=\"display: inline-block; background-color: #d9e0e7; padding: 6px; margin: 4px; border: 1px solid #8da1b4; border-radius: 5px; line-height: 60%\"><p style=\"margin-bottom: 0px\">Resource MolecularSequence &quot;example&quot; </p></div><p><b>type</b>: dna</p><h3>Literals</h3><table class=\"grid\"><tr><td style=\"display: none\">-</td><td><b>SequenceValue</b></td></tr><tr><td style=\"display: none\">*</td><td>ATGAACAGACAAGTAAAAGACATGACAGYGATACTTTCCCAGAGCTGAAGTTAACAAATGCACCTGGTTC TTTTACTAAGTGTTCAAATACCAGTGAACTTAAAGAATTTGTCAATCCTAGCCTTCCAAGAGAAGAAAAA GAAGAGAAACTAGAAACAGTTAAAGTGTCTAATAATGCTGAAGACCCCAAAGATCTCATGTTAAGTGGAG AAAGGGTTTTGCAAACTGAAAGATCTGTAGAGAGTAGCAGTATTTCAYTGGTACCTGGTACTGATTATGG CACTCAGGAAAGTATCTCGTTACTGGAAGTTAGCACTCTAGGGAAGGCAAAAACAGAACCAAATAAATGT GTGAGTCAGTGTGCAGCATTTGAAAACCCCAAGGGACTAATTCATGGTTGTTCCAAAGATAATAGAAATG ACACAGAAGGCTTTAAGTATCCATTGGGACATGAAGTTAACCACAGTCGGGAAACAAGCATAGAAATGGA AGAAAGTGAACTTGATGCTCAGTATTTGCAGAATACATTCAAGGTTTCAAAGCGCCAGTCATTTGCTCYG TTTTCAAATCCAGGAAATGCAGAAGAGGAATGTGCAACATTCTCTGCCCACTCTGGGTCCTTAAAGAAAC AAAGTCCAAAAGTCACTTTTGAATGTGAACAAAAGGAAGAAAATCAAGGAAAGAATGAGTCTAATATCAA GCCTGTACAGACAGTTAATATCACTGCAGGCTTTCCTGTGGTTGGTCAGAAAGA</td></tr></table><h3>Formatteds</h3><table class=\"grid\"><tr><td style=\"display: none\">-</td><td><b>ContentType</b></td><td><b>Url</b></td></tr><tr><td style=\"display: none\">*</td><td>text/html</td><td><a href=\"https://www.ncbi.nlm.nih.gov/nuccore/MW716256.1?report=fasta\">https://www.ncbi.nlm.nih.gov/nuccore/MW716256.1?report=fasta</a></td></tr></table><blockquote><p><b>relative</b></p><p><b>startingSequence</b>: <a href=\"broken-link.html\">MolecularSequence/StartingSequenceExample: Starting Sequence Resource</a></p><h3>Edits</h3><table class=\"grid\"><tr><td style=\"display: none\">-</td><td><b>CoordinateSystem</b></td><td><b>Start</b></td><td><b>End</b></td><td><b>ReplacementSequence</b></td><td><b>ReplacedSequence</b></td></tr><tr><td style=\"display: none\">*</td><td>0-based interval counting <span style=\"background: LightGoldenRodYellow; margin: 4px; border: 1px solid khaki\"> (<a href=\"https://loinc.org/\">LOINC</a>#LA30100-4)</span></td><td>0</td><td>725</td><td><a href=\"broken-link.html\">MolecularSequence/ReplacementSequenceExample: Replacement Sequence Resource</a></td><td><a href=\"broken-link.html\">MolecularSequence/ReplacedSequenceExample: Replaced Sequence Resource</a></td></tr></table></blockquote><h3>Extracteds</h3><table class=\"grid\"><tr><td style=\"display: none\">-</td><td><b>StartingSequence</b></td><td><b>Start</b></td><td><b>End</b></td><td><b>CoordinateSystem</b></td><td><b>ReverseComplement</b></td></tr><tr><td style=\"display: none\">*</td><td><a href=\"broken-link.html\">MolecularSequence/StartingSequenceExample: Starting Sequence Resource</a></td><td>0</td><td>745</td><td>0-based interval counting <span style=\"background: LightGoldenRodYellow; margin: 4px; border: 1px solid khaki\"> (<a href=\"https://loinc.org/\">LOINC</a>#LA30100-4)</span></td><td>false</td></tr></table><blockquote><p><b>concatenated</b></p><blockquote><p><b>sequenceElement</b></p><p><b>sequence</b>: <a href=\"broken-link.html\">MolecularSequence/Sequence0ConcatenatedExample: Sequence-of index 0-Resource for concatenated sequence example</a></p><p><b>ordinalIndex</b>: 0</p></blockquote><blockquote><p><b>sequenceElement</b></p><p><b>sequence</b>: <a href=\"broken-link.html\">MolecularSequence/Sequence1ConcatenatedExample: Sequence-of index 1-Resource for concatenated sequence example</a></p><p><b>ordinalIndex</b>: 1</p></blockquote><blockquote><p><b>sequenceElement</b></p><p><b>sequence</b>: <a href=\"broken-link.html\">MolecularSequence/Sequence2ConcatenatedExample: Sequence-of index 2-Resource for concatenated sequence example</a></p><p><b>ordinalIndex</b>: 2</p></blockquote></blockquote></div>', div__ext=None, status='generated', status__ext=None), identifier=None, type='dna', type__ext=None, literal=[MolecularSequenceLiteralPlus(resource_type='MolecularSequenceLiteralPlus', fhir_comments=None, extension=None, id=None, modifierExtension=None, sequenceValue='ATGAACAGACAAGTAAAAGACATGACAGYGATACTTTCCCAGAGCTGAAGTTAACAAATGCACCTGGTTC TTTTACTAAGTGTTCAAATACCAGTGAACTTAAAGAATTTGTCAATCCTAGCCTTCCAAGAGAAGAAAAA GAAGAGAAACTAGAAACAGTTAAAGTGTCTAATAATGCTGAAGACCCCAAAGATCTCATGTTAAGTGGAG AAAGGGTTTTGCAAACTGAAAGATCTGTAGAGAGTAGCAGTATTTCAYTGGTACCTGGTACTGATTATGG CACTCAGGAAAGTATCTCGTTACTGGAAGTTAGCACTCTAGGGAAGGCAAAAACAGAACCAAATAAATGT GTGAGTCAGTGTGCAGCATTTGAAAACCCCAAGGGACTAATTCATGGTTGTTCCAAAGATAATAGAAATG ACACAGAAGGCTTTAAGTATCCATTGGGACATGAAGTTAACCACAGTCGGGAAACAAGCATAGAAATGGA AGAAAGTGAACTTGATGCTCAGTATTTGCAGAATACATTCAAGGTTTCAAAGCGCCAGTCATTTGCTCYG TTTTCAAATCCAGGAAATGCAGAAGAGGAATGTGCAACATTCTCTGCCCACTCTGGGTCCTTAAAGAAAC AAAGTCCAAAAGTCACTTTTGAATGTGAACAAAAGGAAGAAAATCAAGGAAAGAATGAGTCTAATATCAA GCCTGTACAGACAGTTAATATCACTGCAGGCTTTCCTGTGGTTGGTCAGAAAGA', encoding=None)], literal__ext=None, formatted=[Attachment(resource_type='Attachment', fhir_comments=None, extension=None, id=None, contentType='text/html', contentType__ext=None, creation=None, creation__ext=None, data=None, data__ext=None, duration=None, duration__ext=None, frames=None, frames__ext=None, hash=None, hash__ext=None, height=None, height__ext=None, language=None, language__ext=None, pages=None, pages__ext=None, size=None, size__ext=None, title=None, title__ext=None, url=AnyUrl('https://www.ncbi.nlm.nih.gov/nuccore/MW716256.1?report=fasta', scheme='https', host='www.ncbi.nlm.nih.gov', tld='gov', host_type='domain', path='/nuccore/MW716256.1', query='report=fasta'), url__ext=None, width=None, width__ext=None)], relative=[MolecularSequenceRelativePlus(resource_type='MolecularSequenceRelativePlus', fhir_comments=None, extension=None, id=None, modifierExtension=None, startingSequence=Reference(resource_type='Reference', fhir_comments=None, extension=None, id=None, display='Starting Sequence Resource', display__ext=None, identifier=None, reference='MolecularSequence/StartingSequenceExample', reference__ext=None, type='MolecularSequence', type__ext=None), edit=[MolecularSequenceRelativeEditPlus(resource_type='MolecularSequenceRelativeEditPlus', fhir_comments=None, extension=None, id=None, modifierExtension=None, editOrder=None, coordinateSystem=CodeableConcept(resource_type='CodeableConcept', fhir_comments=None, extension=None, id=None, coding=[Coding(resource_type='Coding', fhir_comments=None, extension=None, id=None, code='LA30100-4', code__ext=None, display='0-based interval counting', display__ext=None, system='http://loinc.org', system__ext=None, userSelected=None, userSelected__ext=None, version=None, version__ext=None)], text='0-based interval counting', text__ext=None), start=0, start__ext=None, end=725, end__ext=None, replacementSequence=Reference(resource_type='Reference', fhir_comments=None, extension=None, id=None, display='Replacement Sequence Resource', display__ext=None, identifier=None, reference='MolecularSequence/ReplacementSequenceExample', reference__ext=None, type='MolecularSequence', type__ext=None), replacementSequence__ext=None, replacedSequence=Reference(resource_type='Reference', fhir_comments=None, extension=None, id=None, display='Replaced Sequence Resource', display__ext=None, identifier=None, reference='MolecularSequence/ReplacedSequenceExample', reference__ext=None, type='MolecularSequence', type__ext=None), replacedSequence__ext=None)])], extracted=[MolecularSequenceExtracted(resource_type='MolecularSequenceExtracted', fhir_comments=None, extension=None, id=None, modifierExtension=None, startingSequence=Reference(resource_type='Reference', fhir_comments=None, extension=None, id=None, display='Starting Sequence Resource', display__ext=None, identifier=None, reference='MolecularSequence/StartingSequenceExample', reference__ext=None, type='MolecularSequence', type__ext=None), start=0, start__ext=None, end=745, end__ext=None, coordinateSystem=CodeableConcept(resource_type='CodeableConcept', fhir_comments=None, extension=None, id=None, coding=[Coding(resource_type='Coding', fhir_comments=None, extension=None, id=None, code='LA30100-4', code__ext=None, display='0-based interval counting', display__ext=None, system='http://loinc.org', system__ext=None, userSelected=None, userSelected__ext=None, version=None, version__ext=None)], text='0-based interval counting', text__ext=None), reverseComplement=False)], repeated=None, concatenated={'sequenceElement': [{'sequence': {'reference': 'MolecularSequence/Sequence0ConcatenatedExample', 'type': 'MolecularSequence', 'display': 'Sequence-of index 0-Resource for concatenated sequence example'}, 'ordinalIndex': 0}, {'sequence': {'reference': 'MolecularSequence/Sequence1ConcatenatedExample', 'type': 'MolecularSequence', 'display': 'Sequence-of index 1-Resource for concatenated sequence example'}, 'ordinalIndex': 1}, {'sequence': {'reference': 'MolecularSequence/Sequence2ConcatenatedExample', 'type': 'MolecularSequence', 'display': 'Sequence-of index 2-Resource for concatenated sequence example'}, 'ordinalIndex': 2}]})"
      ]
     },
     "execution_count": 14,
     "metadata": {},
     "output_type": "execute_result"
    }
   ],
   "source": [
    "inst = MolecularSequencePlus(**data)\n",
    "inst"
   ]
  },
  {
   "cell_type": "code",
   "execution_count": 15,
   "metadata": {},
   "outputs": [
    {
     "data": {
      "text/plain": [
       "0"
      ]
     },
     "execution_count": 15,
     "metadata": {},
     "output_type": "execute_result"
    }
   ],
   "source": [
    "inst.concatenated['sequenceElement'][0]['ordinalIndex']"
   ]
  },
  {
   "cell_type": "code",
   "execution_count": 16,
   "metadata": {},
   "outputs": [
    {
     "data": {
      "text/plain": [
       "MolecularSequencePlus(resource_type='MolecularSequencePlus', fhir_comments=None, id='example', implicitRules=None, implicitRules__ext=None, language=None, language__ext=None, meta=None, contained=None, extension=None, modifierExtension=None, text=Narrative(resource_type='Narrative', fhir_comments=None, extension=None, id=None, div='<div xmlns=\"http://www.w3.org/1999/xhtml\"><p><b>Generated Narrative: MolecularSequence</b><a name=\"example\"> </a></p><div style=\"display: inline-block; background-color: #d9e0e7; padding: 6px; margin: 4px; border: 1px solid #8da1b4; border-radius: 5px; line-height: 60%\"><p style=\"margin-bottom: 0px\">Resource MolecularSequence &quot;example&quot; </p></div><p><b>type</b>: dna</p><h3>Literals</h3><table class=\"grid\"><tr><td style=\"display: none\">-</td><td><b>SequenceValue</b></td></tr><tr><td style=\"display: none\">*</td><td>ATGAACAGACAAGTAAAAGACATGACAGYGATACTTTCCCAGAGCTGAAGTTAACAAATGCACCTGGTTC TTTTACTAAGTGTTCAAATACCAGTGAACTTAAAGAATTTGTCAATCCTAGCCTTCCAAGAGAAGAAAAA GAAGAGAAACTAGAAACAGTTAAAGTGTCTAATAATGCTGAAGACCCCAAAGATCTCATGTTAAGTGGAG AAAGGGTTTTGCAAACTGAAAGATCTGTAGAGAGTAGCAGTATTTCAYTGGTACCTGGTACTGATTATGG CACTCAGGAAAGTATCTCGTTACTGGAAGTTAGCACTCTAGGGAAGGCAAAAACAGAACCAAATAAATGT GTGAGTCAGTGTGCAGCATTTGAAAACCCCAAGGGACTAATTCATGGTTGTTCCAAAGATAATAGAAATG ACACAGAAGGCTTTAAGTATCCATTGGGACATGAAGTTAACCACAGTCGGGAAACAAGCATAGAAATGGA AGAAAGTGAACTTGATGCTCAGTATTTGCAGAATACATTCAAGGTTTCAAAGCGCCAGTCATTTGCTCYG TTTTCAAATCCAGGAAATGCAGAAGAGGAATGTGCAACATTCTCTGCCCACTCTGGGTCCTTAAAGAAAC AAAGTCCAAAAGTCACTTTTGAATGTGAACAAAAGGAAGAAAATCAAGGAAAGAATGAGTCTAATATCAA GCCTGTACAGACAGTTAATATCACTGCAGGCTTTCCTGTGGTTGGTCAGAAAGA</td></tr></table><h3>Formatteds</h3><table class=\"grid\"><tr><td style=\"display: none\">-</td><td><b>ContentType</b></td><td><b>Url</b></td></tr><tr><td style=\"display: none\">*</td><td>text/html</td><td><a href=\"https://www.ncbi.nlm.nih.gov/nuccore/MW716256.1?report=fasta\">https://www.ncbi.nlm.nih.gov/nuccore/MW716256.1?report=fasta</a></td></tr></table><blockquote><p><b>relative</b></p><p><b>startingSequence</b>: <a href=\"broken-link.html\">MolecularSequence/StartingSequenceExample: Starting Sequence Resource</a></p><h3>Edits</h3><table class=\"grid\"><tr><td style=\"display: none\">-</td><td><b>CoordinateSystem</b></td><td><b>Start</b></td><td><b>End</b></td><td><b>ReplacementSequence</b></td><td><b>ReplacedSequence</b></td></tr><tr><td style=\"display: none\">*</td><td>0-based interval counting <span style=\"background: LightGoldenRodYellow; margin: 4px; border: 1px solid khaki\"> (<a href=\"https://loinc.org/\">LOINC</a>#LA30100-4)</span></td><td>0</td><td>725</td><td><a href=\"broken-link.html\">MolecularSequence/ReplacementSequenceExample: Replacement Sequence Resource</a></td><td><a href=\"broken-link.html\">MolecularSequence/ReplacedSequenceExample: Replaced Sequence Resource</a></td></tr></table></blockquote><h3>Extracteds</h3><table class=\"grid\"><tr><td style=\"display: none\">-</td><td><b>StartingSequence</b></td><td><b>Start</b></td><td><b>End</b></td><td><b>CoordinateSystem</b></td><td><b>ReverseComplement</b></td></tr><tr><td style=\"display: none\">*</td><td><a href=\"broken-link.html\">MolecularSequence/StartingSequenceExample: Starting Sequence Resource</a></td><td>0</td><td>745</td><td>0-based interval counting <span style=\"background: LightGoldenRodYellow; margin: 4px; border: 1px solid khaki\"> (<a href=\"https://loinc.org/\">LOINC</a>#LA30100-4)</span></td><td>false</td></tr></table><blockquote><p><b>concatenated</b></p><blockquote><p><b>sequenceElement</b></p><p><b>sequence</b>: <a href=\"broken-link.html\">MolecularSequence/Sequence0ConcatenatedExample: Sequence-of index 0-Resource for concatenated sequence example</a></p><p><b>ordinalIndex</b>: 0</p></blockquote><blockquote><p><b>sequenceElement</b></p><p><b>sequence</b>: <a href=\"broken-link.html\">MolecularSequence/Sequence1ConcatenatedExample: Sequence-of index 1-Resource for concatenated sequence example</a></p><p><b>ordinalIndex</b>: 1</p></blockquote><blockquote><p><b>sequenceElement</b></p><p><b>sequence</b>: <a href=\"broken-link.html\">MolecularSequence/Sequence2ConcatenatedExample: Sequence-of index 2-Resource for concatenated sequence example</a></p><p><b>ordinalIndex</b>: 2</p></blockquote></blockquote></div>', div__ext=None, status='generated', status__ext=None), identifier=None, type='dna', type__ext=None, literal=[MolecularSequenceLiteralPlus(resource_type='MolecularSequenceLiteralPlus', fhir_comments=None, extension=None, id=None, modifierExtension=None, sequenceValue='ATGAACAGACAAGTAAAAGACATGACAGYGATACTTTCCCAGAGCTGAAGTTAACAAATGCACCTGGTTC TTTTACTAAGTGTTCAAATACCAGTGAACTTAAAGAATTTGTCAATCCTAGCCTTCCAAGAGAAGAAAAA GAAGAGAAACTAGAAACAGTTAAAGTGTCTAATAATGCTGAAGACCCCAAAGATCTCATGTTAAGTGGAG AAAGGGTTTTGCAAACTGAAAGATCTGTAGAGAGTAGCAGTATTTCAYTGGTACCTGGTACTGATTATGG CACTCAGGAAAGTATCTCGTTACTGGAAGTTAGCACTCTAGGGAAGGCAAAAACAGAACCAAATAAATGT GTGAGTCAGTGTGCAGCATTTGAAAACCCCAAGGGACTAATTCATGGTTGTTCCAAAGATAATAGAAATG ACACAGAAGGCTTTAAGTATCCATTGGGACATGAAGTTAACCACAGTCGGGAAACAAGCATAGAAATGGA AGAAAGTGAACTTGATGCTCAGTATTTGCAGAATACATTCAAGGTTTCAAAGCGCCAGTCATTTGCTCYG TTTTCAAATCCAGGAAATGCAGAAGAGGAATGTGCAACATTCTCTGCCCACTCTGGGTCCTTAAAGAAAC AAAGTCCAAAAGTCACTTTTGAATGTGAACAAAAGGAAGAAAATCAAGGAAAGAATGAGTCTAATATCAA GCCTGTACAGACAGTTAATATCACTGCAGGCTTTCCTGTGGTTGGTCAGAAAGA', encoding=None)], literal__ext=None, formatted=[Attachment(resource_type='Attachment', fhir_comments=None, extension=None, id=None, contentType='text/html', contentType__ext=None, creation=None, creation__ext=None, data=None, data__ext=None, duration=None, duration__ext=None, frames=None, frames__ext=None, hash=None, hash__ext=None, height=None, height__ext=None, language=None, language__ext=None, pages=None, pages__ext=None, size=None, size__ext=None, title=None, title__ext=None, url=AnyUrl('https://www.ncbi.nlm.nih.gov/nuccore/MW716256.1?report=fasta', scheme='https', host='www.ncbi.nlm.nih.gov', tld='gov', host_type='domain', path='/nuccore/MW716256.1', query='report=fasta'), url__ext=None, width=None, width__ext=None)], relative=[MolecularSequenceRelativePlus(resource_type='MolecularSequenceRelativePlus', fhir_comments=None, extension=None, id=None, modifierExtension=None, startingSequence=Reference(resource_type='Reference', fhir_comments=None, extension=None, id=None, display='Starting Sequence Resource', display__ext=None, identifier=None, reference='MolecularSequence/StartingSequenceExample', reference__ext=None, type='MolecularSequence', type__ext=None), edit=[MolecularSequenceRelativeEditPlus(resource_type='MolecularSequenceRelativeEditPlus', fhir_comments=None, extension=None, id=None, modifierExtension=None, editOrder=None, coordinateSystem=CodeableConcept(resource_type='CodeableConcept', fhir_comments=None, extension=None, id=None, coding=[Coding(resource_type='Coding', fhir_comments=None, extension=None, id=None, code='LA30100-4', code__ext=None, display='0-based interval counting', display__ext=None, system='http://loinc.org', system__ext=None, userSelected=None, userSelected__ext=None, version=None, version__ext=None)], text='0-based interval counting', text__ext=None), start=0, start__ext=None, end=725, end__ext=None, replacementSequence=Reference(resource_type='Reference', fhir_comments=None, extension=None, id=None, display='Replacement Sequence Resource', display__ext=None, identifier=None, reference='MolecularSequence/ReplacementSequenceExample', reference__ext=None, type='MolecularSequence', type__ext=None), replacementSequence__ext=None, replacedSequence=Reference(resource_type='Reference', fhir_comments=None, extension=None, id=None, display='Replaced Sequence Resource', display__ext=None, identifier=None, reference='MolecularSequence/ReplacedSequenceExample', reference__ext=None, type='MolecularSequence', type__ext=None), replacedSequence__ext=None)])], extracted=[MolecularSequenceExtracted(resource_type='MolecularSequenceExtracted', fhir_comments=None, extension=None, id=None, modifierExtension=None, startingSequence=Reference(resource_type='Reference', fhir_comments=None, extension=None, id=None, display='Starting Sequence Resource', display__ext=None, identifier=None, reference='MolecularSequence/StartingSequenceExample', reference__ext=None, type='MolecularSequence', type__ext=None), start=0, start__ext=None, end=745, end__ext=None, coordinateSystem=CodeableConcept(resource_type='CodeableConcept', fhir_comments=None, extension=None, id=None, coding=[Coding(resource_type='Coding', fhir_comments=None, extension=None, id=None, code='LA30100-4', code__ext=None, display='0-based interval counting', display__ext=None, system='http://loinc.org', system__ext=None, userSelected=None, userSelected__ext=None, version=None, version__ext=None)], text='0-based interval counting', text__ext=None), reverseComplement=False)], repeated=None, concatenated={'sequenceElement': [{'sequence': {'reference': 'MolecularSequence/Sequence0ConcatenatedExample', 'type': 'MolecularSequence', 'display': 'Sequence-of index 0-Resource for concatenated sequence example'}, 'ordinalIndex': 0}, {'sequence': {'reference': 'MolecularSequence/Sequence1ConcatenatedExample', 'type': 'MolecularSequence', 'display': 'Sequence-of index 1-Resource for concatenated sequence example'}, 'ordinalIndex': 1}, {'sequence': {'reference': 'MolecularSequence/Sequence2ConcatenatedExample', 'type': 'MolecularSequence', 'display': 'Sequence-of index 2-Resource for concatenated sequence example'}, 'ordinalIndex': 2}]})"
      ]
     },
     "execution_count": 16,
     "metadata": {},
     "output_type": "execute_result"
    }
   ],
   "source": [
    "\n",
    "assert \"MolecularSequencePlus\" == inst.resource_type\n",
    "data = inst.dict()\n",
    "assert \"MolecularSequencePlus\" == data[\"resourceType\"]\n",
    "inst2 = MolecularSequencePlus(**data)\n",
    "inst2"
   ]
  }
 ],
 "metadata": {
  "kernelspec": {
   "display_name": "fhir_dev",
   "language": "python",
   "name": "python3"
  },
  "language_info": {
   "codemirror_mode": {
    "name": "ipython",
    "version": 3
   },
   "file_extension": ".py",
   "mimetype": "text/x-python",
   "name": "python",
   "nbconvert_exporter": "python",
   "pygments_lexer": "ipython3",
   "version": "3.10.13"
  },
  "orig_nbformat": 4
 },
 "nbformat": 4,
 "nbformat_minor": 2
}
